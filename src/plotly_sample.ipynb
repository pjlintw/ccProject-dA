{
 "cells": [
  {
   "cell_type": "code",
<<<<<<< HEAD
   "execution_count": 1,
=======
   "execution_count": 50,
>>>>>>> 9088a579605e9e1d6894a139b02f17fdfea6a23e
   "metadata": {},
   "outputs": [],
   "source": [
    "import plotly.plotly as py\n",
    "import pandas as pd\n",
    "import pprint"
   ]
  },
  {
   "cell_type": "code",
<<<<<<< HEAD
   "execution_count": 2,
=======
   "execution_count": 66,
>>>>>>> 9088a579605e9e1d6894a139b02f17fdfea6a23e
   "metadata": {},
   "outputs": [],
   "source": [
    "import plotly as plt\n",
<<<<<<< HEAD
    "plt.tools.set_credentials_file(username='Pin-JieLin', api_key='qpJBCI0q3Qz1ayjraq7M')\n"
=======
    "plt.tools.set_credentials_file(username='Pin-JieLin', api_key='OClTD7mR163sWAwcLG2E')\n"
>>>>>>> 9088a579605e9e1d6894a139b02f17fdfea6a23e
   ]
  },
  {
   "cell_type": "code",
<<<<<<< HEAD
   "execution_count": 3,
=======
   "execution_count": 67,
>>>>>>> 9088a579605e9e1d6894a139b02f17fdfea6a23e
   "metadata": {
    "scrolled": true
   },
   "outputs": [
    {
     "data": {
      "text/html": [
       "<div>\n",
       "<style scoped>\n",
       "    .dataframe tbody tr th:only-of-type {\n",
       "        vertical-align: middle;\n",
       "    }\n",
       "\n",
       "    .dataframe tbody tr th {\n",
       "        vertical-align: top;\n",
       "    }\n",
       "\n",
       "    .dataframe thead th {\n",
       "        text-align: right;\n",
       "    }\n",
       "</style>\n",
       "<table border=\"1\" class=\"dataframe\">\n",
       "  <thead>\n",
       "    <tr style=\"text-align: right;\">\n",
       "      <th></th>\n",
       "      <th>name</th>\n",
       "      <th>pop</th>\n",
       "      <th>lat</th>\n",
       "      <th>lon</th>\n",
       "    </tr>\n",
       "  </thead>\n",
       "  <tbody>\n",
       "    <tr>\n",
       "      <th>0</th>\n",
       "      <td>New York</td>\n",
       "      <td>8287238</td>\n",
       "      <td>40.730599</td>\n",
       "      <td>-73.986581</td>\n",
       "    </tr>\n",
       "    <tr>\n",
       "      <th>1</th>\n",
       "      <td>Los Angeles</td>\n",
       "      <td>3826423</td>\n",
       "      <td>34.053717</td>\n",
       "      <td>-118.242727</td>\n",
       "    </tr>\n",
       "    <tr>\n",
       "      <th>2</th>\n",
       "      <td>Chicago</td>\n",
       "      <td>2705627</td>\n",
       "      <td>41.875555</td>\n",
       "      <td>-87.624421</td>\n",
       "    </tr>\n",
       "    <tr>\n",
       "      <th>3</th>\n",
       "      <td>Houston</td>\n",
       "      <td>2129784</td>\n",
       "      <td>29.758938</td>\n",
       "      <td>-95.367697</td>\n",
       "    </tr>\n",
       "    <tr>\n",
       "      <th>4</th>\n",
       "      <td>Philadelphia</td>\n",
       "      <td>1539313</td>\n",
       "      <td>39.952335</td>\n",
       "      <td>-75.163789</td>\n",
       "    </tr>\n",
       "  </tbody>\n",
       "</table>\n",
       "</div>"
      ],
      "text/plain": [
       "            name      pop        lat         lon\n",
       "0      New York   8287238  40.730599  -73.986581\n",
       "1   Los Angeles   3826423  34.053717 -118.242727\n",
       "2       Chicago   2705627  41.875555  -87.624421\n",
       "3       Houston   2129784  29.758938  -95.367697\n",
       "4  Philadelphia   1539313  39.952335  -75.163789"
      ]
     },
<<<<<<< HEAD
     "execution_count": 3,
=======
     "execution_count": 67,
>>>>>>> 9088a579605e9e1d6894a139b02f17fdfea6a23e
     "metadata": {},
     "output_type": "execute_result"
    }
   ],
   "source": [
    "df = pd.read_csv('https://raw.githubusercontent.com/plotly/datasets/master/2014_us_cities.csv')\n",
    "df.head()\n",
    "\n",
    "# writer = pd.ExcelWriter('bubble_map_sample.xlsx')\n",
    "# df.to_excel(writer,'Sheet1')\n",
    "# writer.save()"
   ]
  },
  {
   "cell_type": "code",
<<<<<<< HEAD
   "execution_count": 4,
=======
   "execution_count": 70,
>>>>>>> 9088a579605e9e1d6894a139b02f17fdfea6a23e
   "metadata": {},
   "outputs": [
    {
     "data": {
      "text/html": [
       "<div>\n",
       "<style scoped>\n",
       "    .dataframe tbody tr th:only-of-type {\n",
       "        vertical-align: middle;\n",
       "    }\n",
       "\n",
       "    .dataframe tbody tr th {\n",
       "        vertical-align: top;\n",
       "    }\n",
       "\n",
       "    .dataframe thead th {\n",
       "        text-align: right;\n",
       "    }\n",
       "</style>\n",
       "<table border=\"1\" class=\"dataframe\">\n",
       "  <thead>\n",
       "    <tr style=\"text-align: right;\">\n",
       "      <th></th>\n",
       "      <th>name</th>\n",
       "      <th>pop</th>\n",
       "      <th>lat</th>\n",
       "      <th>lon</th>\n",
<<<<<<< HEAD
=======
       "      <th>text</th>\n",
>>>>>>> 9088a579605e9e1d6894a139b02f17fdfea6a23e
       "    </tr>\n",
       "  </thead>\n",
       "  <tbody>\n",
       "    <tr>\n",
       "      <th>0</th>\n",
       "      <td>New York</td>\n",
       "      <td>8287238</td>\n",
       "      <td>40.730599</td>\n",
       "      <td>-73.986581</td>\n",
<<<<<<< HEAD
=======
       "      <td>New York &lt;br&gt;Population 8.287238 million</td>\n",
>>>>>>> 9088a579605e9e1d6894a139b02f17fdfea6a23e
       "    </tr>\n",
       "    <tr>\n",
       "      <th>1</th>\n",
       "      <td>Los Angeles</td>\n",
       "      <td>3826423</td>\n",
       "      <td>34.053717</td>\n",
       "      <td>-118.242727</td>\n",
<<<<<<< HEAD
=======
       "      <td>Los Angeles &lt;br&gt;Population 3.826423 million</td>\n",
>>>>>>> 9088a579605e9e1d6894a139b02f17fdfea6a23e
       "    </tr>\n",
       "    <tr>\n",
       "      <th>2</th>\n",
       "      <td>Chicago</td>\n",
       "      <td>2705627</td>\n",
       "      <td>41.875555</td>\n",
       "      <td>-87.624421</td>\n",
<<<<<<< HEAD
=======
       "      <td>Chicago &lt;br&gt;Population 2.705627 million</td>\n",
>>>>>>> 9088a579605e9e1d6894a139b02f17fdfea6a23e
       "    </tr>\n",
       "    <tr>\n",
       "      <th>3</th>\n",
       "      <td>Houston</td>\n",
       "      <td>2129784</td>\n",
       "      <td>29.758938</td>\n",
       "      <td>-95.367697</td>\n",
<<<<<<< HEAD
=======
       "      <td>Houston &lt;br&gt;Population 2.129784 million</td>\n",
>>>>>>> 9088a579605e9e1d6894a139b02f17fdfea6a23e
       "    </tr>\n",
       "    <tr>\n",
       "      <th>4</th>\n",
       "      <td>Philadelphia</td>\n",
       "      <td>1539313</td>\n",
       "      <td>39.952335</td>\n",
       "      <td>-75.163789</td>\n",
<<<<<<< HEAD
=======
       "      <td>Philadelphia &lt;br&gt;Population 1.539313 million</td>\n",
>>>>>>> 9088a579605e9e1d6894a139b02f17fdfea6a23e
       "    </tr>\n",
       "    <tr>\n",
       "      <th>5</th>\n",
       "      <td>Phoenix</td>\n",
       "      <td>1465114</td>\n",
       "      <td>33.446768</td>\n",
       "      <td>-112.075672</td>\n",
<<<<<<< HEAD
=======
       "      <td>Phoenix &lt;br&gt;Population 1.465114 million</td>\n",
>>>>>>> 9088a579605e9e1d6894a139b02f17fdfea6a23e
       "    </tr>\n",
       "    <tr>\n",
       "      <th>6</th>\n",
       "      <td>San Antonio</td>\n",
       "      <td>1359174</td>\n",
       "      <td>29.424600</td>\n",
       "      <td>-98.495141</td>\n",
<<<<<<< HEAD
=======
       "      <td>San Antonio &lt;br&gt;Population 1.359174 million</td>\n",
>>>>>>> 9088a579605e9e1d6894a139b02f17fdfea6a23e
       "    </tr>\n",
       "    <tr>\n",
       "      <th>7</th>\n",
       "      <td>San Diego</td>\n",
       "      <td>1321016</td>\n",
       "      <td>32.717421</td>\n",
       "      <td>-117.162771</td>\n",
<<<<<<< HEAD
=======
       "      <td>San Diego &lt;br&gt;Population 1.321016 million</td>\n",
>>>>>>> 9088a579605e9e1d6894a139b02f17fdfea6a23e
       "    </tr>\n",
       "    <tr>\n",
       "      <th>8</th>\n",
       "      <td>Dallas</td>\n",
       "      <td>1219399</td>\n",
       "      <td>32.776196</td>\n",
       "      <td>-96.796899</td>\n",
<<<<<<< HEAD
=======
       "      <td>Dallas &lt;br&gt;Population 1.219399 million</td>\n",
>>>>>>> 9088a579605e9e1d6894a139b02f17fdfea6a23e
       "    </tr>\n",
       "    <tr>\n",
       "      <th>9</th>\n",
       "      <td>San Jose</td>\n",
       "      <td>971495</td>\n",
       "      <td>37.343850</td>\n",
       "      <td>-121.883135</td>\n",
<<<<<<< HEAD
=======
       "      <td>San Jose &lt;br&gt;Population 0.971495 million</td>\n",
>>>>>>> 9088a579605e9e1d6894a139b02f17fdfea6a23e
       "    </tr>\n",
       "    <tr>\n",
       "      <th>10</th>\n",
       "      <td>Austin</td>\n",
       "      <td>839714</td>\n",
       "      <td>30.271129</td>\n",
       "      <td>-97.743700</td>\n",
<<<<<<< HEAD
=======
       "      <td>Austin &lt;br&gt;Population 0.839714 million</td>\n",
>>>>>>> 9088a579605e9e1d6894a139b02f17fdfea6a23e
       "    </tr>\n",
       "    <tr>\n",
       "      <th>11</th>\n",
       "      <td>Jacksonville</td>\n",
       "      <td>829543</td>\n",
       "      <td>30.332184</td>\n",
       "      <td>-81.655651</td>\n",
<<<<<<< HEAD
=======
       "      <td>Jacksonville &lt;br&gt;Population 0.829543 million</td>\n",
>>>>>>> 9088a579605e9e1d6894a139b02f17fdfea6a23e
       "    </tr>\n",
       "    <tr>\n",
       "      <th>12</th>\n",
       "      <td>Indianapolis</td>\n",
       "      <td>827346</td>\n",
       "      <td>39.768333</td>\n",
       "      <td>-86.158350</td>\n",
<<<<<<< HEAD
=======
       "      <td>Indianapolis  &lt;br&gt;Population 0.827346 million</td>\n",
>>>>>>> 9088a579605e9e1d6894a139b02f17fdfea6a23e
       "    </tr>\n",
       "    <tr>\n",
       "      <th>13</th>\n",
       "      <td>San Francisco</td>\n",
       "      <td>816239</td>\n",
       "      <td>37.779277</td>\n",
       "      <td>-122.419270</td>\n",
<<<<<<< HEAD
=======
       "      <td>San Francisco &lt;br&gt;Population 0.816239 million</td>\n",
>>>>>>> 9088a579605e9e1d6894a139b02f17fdfea6a23e
       "    </tr>\n",
       "    <tr>\n",
       "      <th>14</th>\n",
       "      <td>Columbus</td>\n",
       "      <td>799270</td>\n",
       "      <td>39.962260</td>\n",
       "      <td>-83.000706</td>\n",
<<<<<<< HEAD
=======
       "      <td>Columbus &lt;br&gt;Population 0.79927 million</td>\n",
>>>>>>> 9088a579605e9e1d6894a139b02f17fdfea6a23e
       "    </tr>\n",
       "    <tr>\n",
       "      <th>15</th>\n",
       "      <td>Fort Worth</td>\n",
       "      <td>761895</td>\n",
       "      <td>32.753177</td>\n",
       "      <td>-97.332746</td>\n",
<<<<<<< HEAD
=======
       "      <td>Fort Worth &lt;br&gt;Population 0.761895 million</td>\n",
>>>>>>> 9088a579605e9e1d6894a139b02f17fdfea6a23e
       "    </tr>\n",
       "    <tr>\n",
       "      <th>16</th>\n",
       "      <td>Charlotte</td>\n",
       "      <td>756204</td>\n",
       "      <td>35.227087</td>\n",
       "      <td>-80.843127</td>\n",
<<<<<<< HEAD
=======
       "      <td>Charlotte &lt;br&gt;Population 0.756204 million</td>\n",
>>>>>>> 9088a579605e9e1d6894a139b02f17fdfea6a23e
       "    </tr>\n",
       "    <tr>\n",
       "      <th>17</th>\n",
       "      <td>Detroit</td>\n",
       "      <td>702149</td>\n",
       "      <td>42.348664</td>\n",
       "      <td>-83.056737</td>\n",
<<<<<<< HEAD
=======
       "      <td>Detroit &lt;br&gt;Population 0.702149 million</td>\n",
>>>>>>> 9088a579605e9e1d6894a139b02f17fdfea6a23e
       "    </tr>\n",
       "    <tr>\n",
       "      <th>18</th>\n",
       "      <td>El Paso</td>\n",
       "      <td>665503</td>\n",
       "      <td>31.811131</td>\n",
       "      <td>-106.501349</td>\n",
<<<<<<< HEAD
=======
       "      <td>El Paso &lt;br&gt;Population 0.665503 million</td>\n",
>>>>>>> 9088a579605e9e1d6894a139b02f17fdfea6a23e
       "    </tr>\n",
       "    <tr>\n",
       "      <th>19</th>\n",
       "      <td>Memphis</td>\n",
       "      <td>655975</td>\n",
       "      <td>35.149022</td>\n",
       "      <td>-90.051629</td>\n",
<<<<<<< HEAD
=======
       "      <td>Memphis &lt;br&gt;Population 0.655975 million</td>\n",
>>>>>>> 9088a579605e9e1d6894a139b02f17fdfea6a23e
       "    </tr>\n",
       "    <tr>\n",
       "      <th>20</th>\n",
       "      <td>Boston</td>\n",
       "      <td>630645</td>\n",
       "      <td>42.360482</td>\n",
       "      <td>-71.059568</td>\n",
<<<<<<< HEAD
=======
       "      <td>Boston &lt;br&gt;Population 0.630645 million</td>\n",
>>>>>>> 9088a579605e9e1d6894a139b02f17fdfea6a23e
       "    </tr>\n",
       "    <tr>\n",
       "      <th>21</th>\n",
       "      <td>Seattle</td>\n",
       "      <td>622175</td>\n",
       "      <td>47.603832</td>\n",
       "      <td>-122.330062</td>\n",
<<<<<<< HEAD
=======
       "      <td>Seattle &lt;br&gt;Population 0.622175 million</td>\n",
>>>>>>> 9088a579605e9e1d6894a139b02f17fdfea6a23e
       "    </tr>\n",
       "    <tr>\n",
       "      <th>22</th>\n",
       "      <td>Baltimore</td>\n",
       "      <td>620889</td>\n",
       "      <td>39.290861</td>\n",
       "      <td>-76.610807</td>\n",
<<<<<<< HEAD
=======
       "      <td>Baltimore &lt;br&gt;Population 0.620889 million</td>\n",
>>>>>>> 9088a579605e9e1d6894a139b02f17fdfea6a23e
       "    </tr>\n",
       "    <tr>\n",
       "      <th>23</th>\n",
       "      <td>Washington</td>\n",
       "      <td>620427</td>\n",
       "      <td>38.894955</td>\n",
       "      <td>-77.036646</td>\n",
<<<<<<< HEAD
=======
       "      <td>Washington &lt;br&gt;Population 0.620427 million</td>\n",
>>>>>>> 9088a579605e9e1d6894a139b02f17fdfea6a23e
       "    </tr>\n",
       "    <tr>\n",
       "      <th>24</th>\n",
       "      <td>Denver</td>\n",
       "      <td>619390</td>\n",
       "      <td>39.739154</td>\n",
       "      <td>-104.984703</td>\n",
<<<<<<< HEAD
=======
       "      <td>Denver &lt;br&gt;Population 0.61939 million</td>\n",
>>>>>>> 9088a579605e9e1d6894a139b02f17fdfea6a23e
       "    </tr>\n",
       "    <tr>\n",
       "      <th>25</th>\n",
       "      <td>Nashville-Davidson</td>\n",
       "      <td>612243</td>\n",
       "      <td>36.187025</td>\n",
       "      <td>-86.780862</td>\n",
<<<<<<< HEAD
=======
       "      <td>Nashville-Davidson   &lt;br&gt;Population 0.612243 m...</td>\n",
>>>>>>> 9088a579605e9e1d6894a139b02f17fdfea6a23e
       "    </tr>\n",
       "    <tr>\n",
       "      <th>26</th>\n",
       "      <td>Louisville/Jefferson County</td>\n",
       "      <td>601709</td>\n",
       "      <td>38.209237</td>\n",
       "      <td>-85.703850</td>\n",
<<<<<<< HEAD
=======
       "      <td>Louisville/Jefferson County   &lt;br&gt;Population 0...</td>\n",
>>>>>>> 9088a579605e9e1d6894a139b02f17fdfea6a23e
       "    </tr>\n",
       "    <tr>\n",
       "      <th>27</th>\n",
       "      <td>Milwaukee</td>\n",
       "      <td>597435</td>\n",
       "      <td>43.034993</td>\n",
       "      <td>-87.922497</td>\n",
<<<<<<< HEAD
=======
       "      <td>Milwaukee &lt;br&gt;Population 0.597435 million</td>\n",
>>>>>>> 9088a579605e9e1d6894a139b02f17fdfea6a23e
       "    </tr>\n",
       "    <tr>\n",
       "      <th>28</th>\n",
       "      <td>Portland</td>\n",
       "      <td>593859</td>\n",
       "      <td>45.520247</td>\n",
       "      <td>-122.674195</td>\n",
<<<<<<< HEAD
=======
       "      <td>Portland &lt;br&gt;Population 0.593859 million</td>\n",
>>>>>>> 9088a579605e9e1d6894a139b02f17fdfea6a23e
       "    </tr>\n",
       "    <tr>\n",
       "      <th>29</th>\n",
       "      <td>Oklahoma City</td>\n",
       "      <td>589896</td>\n",
       "      <td>35.472989</td>\n",
       "      <td>-97.517054</td>\n",
<<<<<<< HEAD
=======
       "      <td>Oklahoma City &lt;br&gt;Population 0.589896 million</td>\n",
>>>>>>> 9088a579605e9e1d6894a139b02f17fdfea6a23e
       "    </tr>\n",
       "    <tr>\n",
       "      <th>...</th>\n",
       "      <td>...</td>\n",
       "      <td>...</td>\n",
       "      <td>...</td>\n",
       "      <td>...</td>\n",
<<<<<<< HEAD
=======
       "      <td>...</td>\n",
>>>>>>> 9088a579605e9e1d6894a139b02f17fdfea6a23e
       "    </tr>\n",
       "    <tr>\n",
       "      <th>3198</th>\n",
       "      <td>Escalon</td>\n",
       "      <td>7208</td>\n",
       "      <td>37.754457</td>\n",
       "      <td>-121.006422</td>\n",
<<<<<<< HEAD
=======
       "      <td>Escalon &lt;br&gt;Population 0.007208 million</td>\n",
>>>>>>> 9088a579605e9e1d6894a139b02f17fdfea6a23e
       "    </tr>\n",
       "    <tr>\n",
       "      <th>3199</th>\n",
       "      <td>Mount Carmel</td>\n",
       "      <td>7208</td>\n",
       "      <td>38.410880</td>\n",
       "      <td>-87.761417</td>\n",
<<<<<<< HEAD
=======
       "      <td>Mount Carmel &lt;br&gt;Population 0.007208 million</td>\n",
>>>>>>> 9088a579605e9e1d6894a139b02f17fdfea6a23e
       "    </tr>\n",
       "    <tr>\n",
       "      <th>3200</th>\n",
       "      <td>Alamo Heights</td>\n",
       "      <td>7201</td>\n",
       "      <td>29.484953</td>\n",
       "      <td>-98.465850</td>\n",
<<<<<<< HEAD
=======
       "      <td>Alamo Heights &lt;br&gt;Population 0.007201 million</td>\n",
>>>>>>> 9088a579605e9e1d6894a139b02f17fdfea6a23e
       "    </tr>\n",
       "    <tr>\n",
       "      <th>3201</th>\n",
       "      <td>Devils Lake</td>\n",
       "      <td>7185</td>\n",
       "      <td>48.112779</td>\n",
       "      <td>-98.865120</td>\n",
<<<<<<< HEAD
=======
       "      <td>Devils Lake &lt;br&gt;Population 0.007185 million</td>\n",
>>>>>>> 9088a579605e9e1d6894a139b02f17fdfea6a23e
       "    </tr>\n",
       "    <tr>\n",
       "      <th>3202</th>\n",
       "      <td>Midland Park borough</td>\n",
       "      <td>7185</td>\n",
       "      <td>40.989264</td>\n",
       "      <td>-74.140699</td>\n",
<<<<<<< HEAD
=======
       "      <td>Midland Park borough&lt;br&gt;Population 0.007185 mi...</td>\n",
>>>>>>> 9088a579605e9e1d6894a139b02f17fdfea6a23e
       "    </tr>\n",
       "    <tr>\n",
       "      <th>3203</th>\n",
       "      <td>Logan</td>\n",
       "      <td>7176</td>\n",
       "      <td>40.107509</td>\n",
       "      <td>-89.376854</td>\n",
<<<<<<< HEAD
=======
       "      <td>Logan &lt;br&gt;Population 0.007176 million</td>\n",
>>>>>>> 9088a579605e9e1d6894a139b02f17fdfea6a23e
       "    </tr>\n",
       "    <tr>\n",
       "      <th>3204</th>\n",
       "      <td>Milton</td>\n",
       "      <td>7176</td>\n",
       "      <td>42.249544</td>\n",
       "      <td>-71.066161</td>\n",
<<<<<<< HEAD
=======
       "      <td>Milton &lt;br&gt;Population 0.007176 million</td>\n",
>>>>>>> 9088a579605e9e1d6894a139b02f17fdfea6a23e
       "    </tr>\n",
       "    <tr>\n",
       "      <th>3205</th>\n",
       "      <td>Woodland Park</td>\n",
       "      <td>7171</td>\n",
       "      <td>39.009936</td>\n",
       "      <td>-105.045003</td>\n",
<<<<<<< HEAD
=======
       "      <td>Woodland Park &lt;br&gt;Population 0.007171 million</td>\n",
>>>>>>> 9088a579605e9e1d6894a139b02f17fdfea6a23e
       "    </tr>\n",
       "    <tr>\n",
       "      <th>3206</th>\n",
       "      <td>Navasota</td>\n",
       "      <td>7170</td>\n",
       "      <td>30.387414</td>\n",
       "      <td>-96.087507</td>\n",
<<<<<<< HEAD
=======
       "      <td>Navasota &lt;br&gt;Population 0.00717 million</td>\n",
>>>>>>> 9088a579605e9e1d6894a139b02f17fdfea6a23e
       "    </tr>\n",
       "    <tr>\n",
       "      <th>3207</th>\n",
       "      <td>Catoosa</td>\n",
       "      <td>7165</td>\n",
       "      <td>34.891114</td>\n",
       "      <td>-85.131315</td>\n",
<<<<<<< HEAD
=======
       "      <td>Catoosa &lt;br&gt;Population 0.007165 million</td>\n",
>>>>>>> 9088a579605e9e1d6894a139b02f17fdfea6a23e
       "    </tr>\n",
       "    <tr>\n",
       "      <th>3208</th>\n",
       "      <td>Hudsonville</td>\n",
       "      <td>7155</td>\n",
       "      <td>42.870859</td>\n",
       "      <td>-85.865036</td>\n",
<<<<<<< HEAD
=======
       "      <td>Hudsonville &lt;br&gt;Population 0.007155 million</td>\n",
>>>>>>> 9088a579605e9e1d6894a139b02f17fdfea6a23e
       "    </tr>\n",
       "    <tr>\n",
       "      <th>3209</th>\n",
       "      <td>Ashland</td>\n",
       "      <td>7153</td>\n",
       "      <td>38.478414</td>\n",
       "      <td>-82.637939</td>\n",
<<<<<<< HEAD
=======
       "      <td>Ashland &lt;br&gt;Population 0.007153 million</td>\n",
>>>>>>> 9088a579605e9e1d6894a139b02f17fdfea6a23e
       "    </tr>\n",
       "    <tr>\n",
       "      <th>3210</th>\n",
       "      <td>Highland Heights</td>\n",
       "      <td>7153</td>\n",
       "      <td>41.551995</td>\n",
       "      <td>-81.478452</td>\n",
<<<<<<< HEAD
=======
       "      <td>Highland Heights &lt;br&gt;Population 0.007153 million</td>\n",
>>>>>>> 9088a579605e9e1d6894a139b02f17fdfea6a23e
       "    </tr>\n",
       "    <tr>\n",
       "      <th>3211</th>\n",
       "      <td>Sioux Center</td>\n",
       "      <td>7148</td>\n",
       "      <td>43.079691</td>\n",
       "      <td>-96.175672</td>\n",
<<<<<<< HEAD
=======
       "      <td>Sioux Center &lt;br&gt;Population 0.007148 million</td>\n",
>>>>>>> 9088a579605e9e1d6894a139b02f17fdfea6a23e
       "    </tr>\n",
       "    <tr>\n",
       "      <th>3212</th>\n",
       "      <td>Glenolden borough</td>\n",
       "      <td>7143</td>\n",
       "      <td>39.900113</td>\n",
       "      <td>-75.289074</td>\n",
<<<<<<< HEAD
=======
       "      <td>Glenolden borough&lt;br&gt;Population 0.007143 million</td>\n",
>>>>>>> 9088a579605e9e1d6894a139b02f17fdfea6a23e
       "    </tr>\n",
       "    <tr>\n",
       "      <th>3213</th>\n",
       "      <td>Pinson</td>\n",
       "      <td>7142</td>\n",
       "      <td>33.688991</td>\n",
       "      <td>-86.683323</td>\n",
<<<<<<< HEAD
=======
       "      <td>Pinson &lt;br&gt;Population 0.007142 million</td>\n",
>>>>>>> 9088a579605e9e1d6894a139b02f17fdfea6a23e
       "    </tr>\n",
       "    <tr>\n",
       "      <th>3214</th>\n",
       "      <td>Independence</td>\n",
       "      <td>7137</td>\n",
       "      <td>37.224236</td>\n",
       "      <td>-95.708313</td>\n",
<<<<<<< HEAD
=======
       "      <td>Independence &lt;br&gt;Population 0.007137 million</td>\n",
>>>>>>> 9088a579605e9e1d6894a139b02f17fdfea6a23e
       "    </tr>\n",
       "    <tr>\n",
       "      <th>3215</th>\n",
       "      <td>Clewiston</td>\n",
       "      <td>7134</td>\n",
       "      <td>26.754231</td>\n",
       "      <td>-80.933675</td>\n",
<<<<<<< HEAD
=======
       "      <td>Clewiston &lt;br&gt;Population 0.007134 million</td>\n",
>>>>>>> 9088a579605e9e1d6894a139b02f17fdfea6a23e
       "    </tr>\n",
       "    <tr>\n",
       "      <th>3216</th>\n",
       "      <td>Delphos</td>\n",
       "      <td>7128</td>\n",
       "      <td>40.843383</td>\n",
       "      <td>-84.341618</td>\n",
<<<<<<< HEAD
=======
       "      <td>Delphos &lt;br&gt;Population 0.007128 million</td>\n",
>>>>>>> 9088a579605e9e1d6894a139b02f17fdfea6a23e
       "    </tr>\n",
       "    <tr>\n",
       "      <th>3217</th>\n",
       "      <td>University Park village</td>\n",
       "      <td>7127</td>\n",
       "      <td>34.182697</td>\n",
       "      <td>-117.333909</td>\n",
<<<<<<< HEAD
=======
       "      <td>University Park village&lt;br&gt;Population 0.007127...</td>\n",
>>>>>>> 9088a579605e9e1d6894a139b02f17fdfea6a23e
       "    </tr>\n",
       "    <tr>\n",
       "      <th>3218</th>\n",
       "      <td>Huron</td>\n",
       "      <td>7122</td>\n",
       "      <td>44.792307</td>\n",
       "      <td>-82.331130</td>\n",
<<<<<<< HEAD
=======
       "      <td>Huron &lt;br&gt;Population 0.007122 million</td>\n",
>>>>>>> 9088a579605e9e1d6894a139b02f17fdfea6a23e
       "    </tr>\n",
       "    <tr>\n",
       "      <th>3219</th>\n",
       "      <td>Delafield</td>\n",
       "      <td>7122</td>\n",
       "      <td>43.061028</td>\n",
       "      <td>-88.404069</td>\n",
<<<<<<< HEAD
=======
       "      <td>Delafield &lt;br&gt;Population 0.007122 million</td>\n",
>>>>>>> 9088a579605e9e1d6894a139b02f17fdfea6a23e
       "    </tr>\n",
       "    <tr>\n",
       "      <th>3220</th>\n",
       "      <td>La Junta</td>\n",
       "      <td>7116</td>\n",
       "      <td>37.985009</td>\n",
       "      <td>-103.543832</td>\n",
<<<<<<< HEAD
=======
       "      <td>La Junta &lt;br&gt;Population 0.007116 million</td>\n",
>>>>>>> 9088a579605e9e1d6894a139b02f17fdfea6a23e
       "    </tr>\n",
       "    <tr>\n",
       "      <th>3221</th>\n",
       "      <td>New Square village</td>\n",
       "      <td>7109</td>\n",
       "      <td>41.167039</td>\n",
       "      <td>-74.043197</td>\n",
<<<<<<< HEAD
=======
       "      <td>New Square village&lt;br&gt;Population 0.007109 million</td>\n",
>>>>>>> 9088a579605e9e1d6894a139b02f17fdfea6a23e
       "    </tr>\n",
       "    <tr>\n",
       "      <th>3222</th>\n",
       "      <td>Sullivan</td>\n",
       "      <td>7104</td>\n",
       "      <td>36.496667</td>\n",
       "      <td>-82.286903</td>\n",
<<<<<<< HEAD
=======
       "      <td>Sullivan &lt;br&gt;Population 0.007104 million</td>\n",
>>>>>>> 9088a579605e9e1d6894a139b02f17fdfea6a23e
       "    </tr>\n",
       "    <tr>\n",
       "      <th>3223</th>\n",
       "      <td>Spanish Fort</td>\n",
       "      <td>7102</td>\n",
       "      <td>30.674913</td>\n",
       "      <td>-87.915272</td>\n",
<<<<<<< HEAD
=======
       "      <td>Spanish Fort &lt;br&gt;Population 0.007102 million</td>\n",
>>>>>>> 9088a579605e9e1d6894a139b02f17fdfea6a23e
       "    </tr>\n",
       "    <tr>\n",
       "      <th>3224</th>\n",
       "      <td>Plaquemine</td>\n",
       "      <td>7102</td>\n",
       "      <td>30.289083</td>\n",
       "      <td>-91.234274</td>\n",
<<<<<<< HEAD
=======
       "      <td>Plaquemine &lt;br&gt;Population 0.007102 million</td>\n",
>>>>>>> 9088a579605e9e1d6894a139b02f17fdfea6a23e
       "    </tr>\n",
       "    <tr>\n",
       "      <th>3225</th>\n",
       "      <td>Milton-Freewater</td>\n",
       "      <td>7102</td>\n",
       "      <td>45.932635</td>\n",
       "      <td>-118.387743</td>\n",
<<<<<<< HEAD
=======
       "      <td>Milton-Freewater &lt;br&gt;Population 0.007102 million</td>\n",
>>>>>>> 9088a579605e9e1d6894a139b02f17fdfea6a23e
       "    </tr>\n",
       "    <tr>\n",
       "      <th>3226</th>\n",
       "      <td>Benton</td>\n",
       "      <td>7096</td>\n",
       "      <td>36.034529</td>\n",
       "      <td>-88.101285</td>\n",
<<<<<<< HEAD
=======
       "      <td>Benton &lt;br&gt;Population 0.007096 million</td>\n",
>>>>>>> 9088a579605e9e1d6894a139b02f17fdfea6a23e
       "    </tr>\n",
       "    <tr>\n",
       "      <th>3227</th>\n",
       "      <td>Ocean City</td>\n",
       "      <td>7094</td>\n",
       "      <td>39.277616</td>\n",
       "      <td>-74.574600</td>\n",
<<<<<<< HEAD
       "    </tr>\n",
       "  </tbody>\n",
       "</table>\n",
       "<p>3228 rows × 4 columns</p>\n",
       "</div>"
      ],
      "text/plain": [
       "                                name      pop        lat         lon\n",
       "0                          New York   8287238  40.730599  -73.986581\n",
       "1                       Los Angeles   3826423  34.053717 -118.242727\n",
       "2                           Chicago   2705627  41.875555  -87.624421\n",
       "3                           Houston   2129784  29.758938  -95.367697\n",
       "4                      Philadelphia   1539313  39.952335  -75.163789\n",
       "5                           Phoenix   1465114  33.446768 -112.075672\n",
       "6                       San Antonio   1359174  29.424600  -98.495141\n",
       "7                         San Diego   1321016  32.717421 -117.162771\n",
       "8                            Dallas   1219399  32.776196  -96.796899\n",
       "9                          San Jose    971495  37.343850 -121.883135\n",
       "10                           Austin    839714  30.271129  -97.743700\n",
       "11                     Jacksonville    829543  30.332184  -81.655651\n",
       "12                    Indianapolis     827346  39.768333  -86.158350\n",
       "13                    San Francisco    816239  37.779277 -122.419270\n",
       "14                         Columbus    799270  39.962260  -83.000706\n",
       "15                       Fort Worth    761895  32.753177  -97.332746\n",
       "16                        Charlotte    756204  35.227087  -80.843127\n",
       "17                          Detroit    702149  42.348664  -83.056737\n",
       "18                          El Paso    665503  31.811131 -106.501349\n",
       "19                          Memphis    655975  35.149022  -90.051629\n",
       "20                           Boston    630645  42.360482  -71.059568\n",
       "21                          Seattle    622175  47.603832 -122.330062\n",
       "22                        Baltimore    620889  39.290861  -76.610807\n",
       "23                       Washington    620427  38.894955  -77.036646\n",
       "24                           Denver    619390  39.739154 -104.984703\n",
       "25             Nashville-Davidson      612243  36.187025  -86.780862\n",
       "26    Louisville/Jefferson County      601709  38.209237  -85.703850\n",
       "27                        Milwaukee    597435  43.034993  -87.922497\n",
       "28                         Portland    593859  45.520247 -122.674195\n",
       "29                    Oklahoma City    589896  35.472989  -97.517054\n",
       "...                              ...      ...        ...         ...\n",
       "3198                        Escalon      7208  37.754457 -121.006422\n",
       "3199                   Mount Carmel      7208  38.410880  -87.761417\n",
       "3200                  Alamo Heights      7201  29.484953  -98.465850\n",
       "3201                    Devils Lake      7185  48.112779  -98.865120\n",
       "3202            Midland Park borough     7185  40.989264  -74.140699\n",
       "3203                          Logan      7176  40.107509  -89.376854\n",
       "3204                         Milton      7176  42.249544  -71.066161\n",
       "3205                  Woodland Park      7171  39.009936 -105.045003\n",
       "3206                       Navasota      7170  30.387414  -96.087507\n",
       "3207                        Catoosa      7165  34.891114  -85.131315\n",
       "3208                    Hudsonville      7155  42.870859  -85.865036\n",
       "3209                        Ashland      7153  38.478414  -82.637939\n",
       "3210               Highland Heights      7153  41.551995  -81.478452\n",
       "3211                   Sioux Center      7148  43.079691  -96.175672\n",
       "3212               Glenolden borough     7143  39.900113  -75.289074\n",
       "3213                         Pinson      7142  33.688991  -86.683323\n",
       "3214                   Independence      7137  37.224236  -95.708313\n",
       "3215                      Clewiston      7134  26.754231  -80.933675\n",
       "3216                        Delphos      7128  40.843383  -84.341618\n",
       "3217         University Park village     7127  34.182697 -117.333909\n",
       "3218                          Huron      7122  44.792307  -82.331130\n",
       "3219                      Delafield      7122  43.061028  -88.404069\n",
       "3220                       La Junta      7116  37.985009 -103.543832\n",
       "3221              New Square village     7109  41.167039  -74.043197\n",
       "3222                       Sullivan      7104  36.496667  -82.286903\n",
       "3223                   Spanish Fort      7102  30.674913  -87.915272\n",
       "3224                     Plaquemine      7102  30.289083  -91.234274\n",
       "3225               Milton-Freewater      7102  45.932635 -118.387743\n",
       "3226                         Benton      7096  36.034529  -88.101285\n",
       "3227                     Ocean City      7094  39.277616  -74.574600\n",
       "\n",
       "[3228 rows x 4 columns]"
      ]
     },
     "execution_count": 4,
=======
       "      <td>Ocean City &lt;br&gt;Population 0.007094 million</td>\n",
       "    </tr>\n",
       "  </tbody>\n",
       "</table>\n",
       "<p>3228 rows × 5 columns</p>\n",
       "</div>"
      ],
      "text/plain": [
       "                                name      pop        lat         lon  \\\n",
       "0                          New York   8287238  40.730599  -73.986581   \n",
       "1                       Los Angeles   3826423  34.053717 -118.242727   \n",
       "2                           Chicago   2705627  41.875555  -87.624421   \n",
       "3                           Houston   2129784  29.758938  -95.367697   \n",
       "4                      Philadelphia   1539313  39.952335  -75.163789   \n",
       "5                           Phoenix   1465114  33.446768 -112.075672   \n",
       "6                       San Antonio   1359174  29.424600  -98.495141   \n",
       "7                         San Diego   1321016  32.717421 -117.162771   \n",
       "8                            Dallas   1219399  32.776196  -96.796899   \n",
       "9                          San Jose    971495  37.343850 -121.883135   \n",
       "10                           Austin    839714  30.271129  -97.743700   \n",
       "11                     Jacksonville    829543  30.332184  -81.655651   \n",
       "12                    Indianapolis     827346  39.768333  -86.158350   \n",
       "13                    San Francisco    816239  37.779277 -122.419270   \n",
       "14                         Columbus    799270  39.962260  -83.000706   \n",
       "15                       Fort Worth    761895  32.753177  -97.332746   \n",
       "16                        Charlotte    756204  35.227087  -80.843127   \n",
       "17                          Detroit    702149  42.348664  -83.056737   \n",
       "18                          El Paso    665503  31.811131 -106.501349   \n",
       "19                          Memphis    655975  35.149022  -90.051629   \n",
       "20                           Boston    630645  42.360482  -71.059568   \n",
       "21                          Seattle    622175  47.603832 -122.330062   \n",
       "22                        Baltimore    620889  39.290861  -76.610807   \n",
       "23                       Washington    620427  38.894955  -77.036646   \n",
       "24                           Denver    619390  39.739154 -104.984703   \n",
       "25             Nashville-Davidson      612243  36.187025  -86.780862   \n",
       "26    Louisville/Jefferson County      601709  38.209237  -85.703850   \n",
       "27                        Milwaukee    597435  43.034993  -87.922497   \n",
       "28                         Portland    593859  45.520247 -122.674195   \n",
       "29                    Oklahoma City    589896  35.472989  -97.517054   \n",
       "...                              ...      ...        ...         ...   \n",
       "3198                        Escalon      7208  37.754457 -121.006422   \n",
       "3199                   Mount Carmel      7208  38.410880  -87.761417   \n",
       "3200                  Alamo Heights      7201  29.484953  -98.465850   \n",
       "3201                    Devils Lake      7185  48.112779  -98.865120   \n",
       "3202            Midland Park borough     7185  40.989264  -74.140699   \n",
       "3203                          Logan      7176  40.107509  -89.376854   \n",
       "3204                         Milton      7176  42.249544  -71.066161   \n",
       "3205                  Woodland Park      7171  39.009936 -105.045003   \n",
       "3206                       Navasota      7170  30.387414  -96.087507   \n",
       "3207                        Catoosa      7165  34.891114  -85.131315   \n",
       "3208                    Hudsonville      7155  42.870859  -85.865036   \n",
       "3209                        Ashland      7153  38.478414  -82.637939   \n",
       "3210               Highland Heights      7153  41.551995  -81.478452   \n",
       "3211                   Sioux Center      7148  43.079691  -96.175672   \n",
       "3212               Glenolden borough     7143  39.900113  -75.289074   \n",
       "3213                         Pinson      7142  33.688991  -86.683323   \n",
       "3214                   Independence      7137  37.224236  -95.708313   \n",
       "3215                      Clewiston      7134  26.754231  -80.933675   \n",
       "3216                        Delphos      7128  40.843383  -84.341618   \n",
       "3217         University Park village     7127  34.182697 -117.333909   \n",
       "3218                          Huron      7122  44.792307  -82.331130   \n",
       "3219                      Delafield      7122  43.061028  -88.404069   \n",
       "3220                       La Junta      7116  37.985009 -103.543832   \n",
       "3221              New Square village     7109  41.167039  -74.043197   \n",
       "3222                       Sullivan      7104  36.496667  -82.286903   \n",
       "3223                   Spanish Fort      7102  30.674913  -87.915272   \n",
       "3224                     Plaquemine      7102  30.289083  -91.234274   \n",
       "3225               Milton-Freewater      7102  45.932635 -118.387743   \n",
       "3226                         Benton      7096  36.034529  -88.101285   \n",
       "3227                     Ocean City      7094  39.277616  -74.574600   \n",
       "\n",
       "                                                   text  \n",
       "0              New York <br>Population 8.287238 million  \n",
       "1           Los Angeles <br>Population 3.826423 million  \n",
       "2               Chicago <br>Population 2.705627 million  \n",
       "3               Houston <br>Population 2.129784 million  \n",
       "4          Philadelphia <br>Population 1.539313 million  \n",
       "5               Phoenix <br>Population 1.465114 million  \n",
       "6           San Antonio <br>Population 1.359174 million  \n",
       "7             San Diego <br>Population 1.321016 million  \n",
       "8                Dallas <br>Population 1.219399 million  \n",
       "9              San Jose <br>Population 0.971495 million  \n",
       "10               Austin <br>Population 0.839714 million  \n",
       "11         Jacksonville <br>Population 0.829543 million  \n",
       "12        Indianapolis  <br>Population 0.827346 million  \n",
       "13        San Francisco <br>Population 0.816239 million  \n",
       "14              Columbus <br>Population 0.79927 million  \n",
       "15           Fort Worth <br>Population 0.761895 million  \n",
       "16            Charlotte <br>Population 0.756204 million  \n",
       "17              Detroit <br>Population 0.702149 million  \n",
       "18              El Paso <br>Population 0.665503 million  \n",
       "19              Memphis <br>Population 0.655975 million  \n",
       "20               Boston <br>Population 0.630645 million  \n",
       "21              Seattle <br>Population 0.622175 million  \n",
       "22            Baltimore <br>Population 0.620889 million  \n",
       "23           Washington <br>Population 0.620427 million  \n",
       "24                Denver <br>Population 0.61939 million  \n",
       "25    Nashville-Davidson   <br>Population 0.612243 m...  \n",
       "26    Louisville/Jefferson County   <br>Population 0...  \n",
       "27            Milwaukee <br>Population 0.597435 million  \n",
       "28             Portland <br>Population 0.593859 million  \n",
       "29        Oklahoma City <br>Population 0.589896 million  \n",
       "...                                                 ...  \n",
       "3198            Escalon <br>Population 0.007208 million  \n",
       "3199       Mount Carmel <br>Population 0.007208 million  \n",
       "3200      Alamo Heights <br>Population 0.007201 million  \n",
       "3201        Devils Lake <br>Population 0.007185 million  \n",
       "3202  Midland Park borough<br>Population 0.007185 mi...  \n",
       "3203              Logan <br>Population 0.007176 million  \n",
       "3204             Milton <br>Population 0.007176 million  \n",
       "3205      Woodland Park <br>Population 0.007171 million  \n",
       "3206            Navasota <br>Population 0.00717 million  \n",
       "3207            Catoosa <br>Population 0.007165 million  \n",
       "3208        Hudsonville <br>Population 0.007155 million  \n",
       "3209            Ashland <br>Population 0.007153 million  \n",
       "3210   Highland Heights <br>Population 0.007153 million  \n",
       "3211       Sioux Center <br>Population 0.007148 million  \n",
       "3212   Glenolden borough<br>Population 0.007143 million  \n",
       "3213             Pinson <br>Population 0.007142 million  \n",
       "3214       Independence <br>Population 0.007137 million  \n",
       "3215          Clewiston <br>Population 0.007134 million  \n",
       "3216            Delphos <br>Population 0.007128 million  \n",
       "3217  University Park village<br>Population 0.007127...  \n",
       "3218              Huron <br>Population 0.007122 million  \n",
       "3219          Delafield <br>Population 0.007122 million  \n",
       "3220           La Junta <br>Population 0.007116 million  \n",
       "3221  New Square village<br>Population 0.007109 million  \n",
       "3222           Sullivan <br>Population 0.007104 million  \n",
       "3223       Spanish Fort <br>Population 0.007102 million  \n",
       "3224         Plaquemine <br>Population 0.007102 million  \n",
       "3225   Milton-Freewater <br>Population 0.007102 million  \n",
       "3226             Benton <br>Population 0.007096 million  \n",
       "3227         Ocean City <br>Population 0.007094 million  \n",
       "\n",
       "[3228 rows x 5 columns]"
      ]
     },
     "execution_count": 70,
>>>>>>> 9088a579605e9e1d6894a139b02f17fdfea6a23e
     "metadata": {},
     "output_type": "execute_result"
    }
   ],
   "source": [
    "df"
   ]
  },
  {
   "cell_type": "code",
<<<<<<< HEAD
   "execution_count": 5,
=======
   "execution_count": 68,
>>>>>>> 9088a579605e9e1d6894a139b02f17fdfea6a23e
   "metadata": {},
   "outputs": [
    {
     "name": "stdout",
     "output_type": "stream",
     "text": [
      "<class 'pandas.core.frame.DataFrame'>\n",
      "RangeIndex: 3228 entries, 0 to 3227\n",
      "Data columns (total 4 columns):\n",
      "name    3228 non-null object\n",
      "pop     3228 non-null int64\n",
      "lat     3228 non-null float64\n",
      "lon     3228 non-null float64\n",
      "dtypes: float64(2), int64(1), object(1)\n",
      "memory usage: 101.0+ KB\n"
     ]
    }
   ],
   "source": [
    "df.info()"
   ]
  },
  {
   "cell_type": "code",
<<<<<<< HEAD
   "execution_count": 6,
=======
   "execution_count": 69,
>>>>>>> 9088a579605e9e1d6894a139b02f17fdfea6a23e
   "metadata": {},
   "outputs": [
    {
     "data": {
      "text/plain": [
       "0                New York <br>Population 8.287238 million\n",
       "1             Los Angeles <br>Population 3.826423 million\n",
       "2                 Chicago <br>Population 2.705627 million\n",
       "3                 Houston <br>Population 2.129784 million\n",
       "4            Philadelphia <br>Population 1.539313 million\n",
       "5                 Phoenix <br>Population 1.465114 million\n",
       "6             San Antonio <br>Population 1.359174 million\n",
       "7               San Diego <br>Population 1.321016 million\n",
       "8                  Dallas <br>Population 1.219399 million\n",
       "9                San Jose <br>Population 0.971495 million\n",
       "10                 Austin <br>Population 0.839714 million\n",
       "11           Jacksonville <br>Population 0.829543 million\n",
       "12          Indianapolis  <br>Population 0.827346 million\n",
       "13          San Francisco <br>Population 0.816239 million\n",
       "14                Columbus <br>Population 0.79927 million\n",
       "15             Fort Worth <br>Population 0.761895 million\n",
       "16              Charlotte <br>Population 0.756204 million\n",
       "17                Detroit <br>Population 0.702149 million\n",
       "18                El Paso <br>Population 0.665503 million\n",
       "19                Memphis <br>Population 0.655975 million\n",
       "20                 Boston <br>Population 0.630645 million\n",
       "21                Seattle <br>Population 0.622175 million\n",
       "22              Baltimore <br>Population 0.620889 million\n",
       "23             Washington <br>Population 0.620427 million\n",
       "24                  Denver <br>Population 0.61939 million\n",
       "25      Nashville-Davidson   <br>Population 0.612243 m...\n",
       "26      Louisville/Jefferson County   <br>Population 0...\n",
       "27              Milwaukee <br>Population 0.597435 million\n",
       "28               Portland <br>Population 0.593859 million\n",
       "29          Oklahoma City <br>Population 0.589896 million\n",
       "                              ...                        \n",
       "3198              Escalon <br>Population 0.007208 million\n",
       "3199         Mount Carmel <br>Population 0.007208 million\n",
       "3200        Alamo Heights <br>Population 0.007201 million\n",
       "3201          Devils Lake <br>Population 0.007185 million\n",
       "3202    Midland Park borough<br>Population 0.007185 mi...\n",
       "3203                Logan <br>Population 0.007176 million\n",
       "3204               Milton <br>Population 0.007176 million\n",
       "3205        Woodland Park <br>Population 0.007171 million\n",
       "3206              Navasota <br>Population 0.00717 million\n",
       "3207              Catoosa <br>Population 0.007165 million\n",
       "3208          Hudsonville <br>Population 0.007155 million\n",
       "3209              Ashland <br>Population 0.007153 million\n",
       "3210     Highland Heights <br>Population 0.007153 million\n",
       "3211         Sioux Center <br>Population 0.007148 million\n",
       "3212     Glenolden borough<br>Population 0.007143 million\n",
       "3213               Pinson <br>Population 0.007142 million\n",
       "3214         Independence <br>Population 0.007137 million\n",
       "3215            Clewiston <br>Population 0.007134 million\n",
       "3216              Delphos <br>Population 0.007128 million\n",
       "3217    University Park village<br>Population 0.007127...\n",
       "3218                Huron <br>Population 0.007122 million\n",
       "3219            Delafield <br>Population 0.007122 million\n",
       "3220             La Junta <br>Population 0.007116 million\n",
       "3221    New Square village<br>Population 0.007109 million\n",
       "3222             Sullivan <br>Population 0.007104 million\n",
       "3223         Spanish Fort <br>Population 0.007102 million\n",
       "3224           Plaquemine <br>Population 0.007102 million\n",
       "3225     Milton-Freewater <br>Population 0.007102 million\n",
       "3226               Benton <br>Population 0.007096 million\n",
       "3227           Ocean City <br>Population 0.007094 million\n",
       "Name: text, Length: 3228, dtype: object"
      ]
     },
<<<<<<< HEAD
     "execution_count": 6,
=======
     "execution_count": 69,
>>>>>>> 9088a579605e9e1d6894a139b02f17fdfea6a23e
     "metadata": {},
     "output_type": "execute_result"
    }
   ],
   "source": [
    "df['text'] = df['name'] + '<br>Population ' + (df['pop']/1e6).astype(str)+' million'\n",
    "limits = [(0,2),(3,10),(11,20),(21,50),(50,3000)]\n",
    "colors = [\"rgb(0,116,217)\",\"rgb(255,65,54)\",\"rgb(133,20,75)\",\"rgb(255,133,27)\",\"lightgrey\"]\n",
    "cities = []\n",
    "scale = 5000\n",
    "\n",
    "df['text']"
   ]
  },
  {
   "cell_type": "code",
   "execution_count": null,
   "metadata": {},
   "outputs": [],
   "source": []
  },
  {
   "cell_type": "code",
<<<<<<< HEAD
   "execution_count": 7,
   "metadata": {},
   "outputs": [],
=======
   "execution_count": 35,
   "metadata": {},
   "outputs": [
    {
     "name": "stdout",
     "output_type": "stream",
     "text": [
      "type\n",
      "locationmode\n",
      "lon\n",
      "lat\n",
      "text\n",
      "marker\n",
      "name\n"
     ]
    }
   ],
>>>>>>> 9088a579605e9e1d6894a139b02f17fdfea6a23e
   "source": [
    "for i in range(len(limits)):\n",
    "    lim = limits[i]\n",
    "    df_sub = df[lim[0]:lim[1]]\n",
    "    city = dict(\n",
    "        type = 'scattergeo',\n",
    "        locationmode = 'USA-states',\n",
    "        lon = df_sub['lon'],\n",
    "        lat = df_sub['lat'],\n",
    "        text = df_sub['text'],\n",
    "        marker = dict(\n",
    "            size = df_sub['pop']/scale,\n",
    "            # sizeref = 2. * max(df_sub['pop']/scale) / (25 ** 2),\n",
    "            color = colors[i],\n",
    "            line = dict(width=0.5, color='rgb(40,40,40)'),\n",
    "            sizemode = 'area'\n",
    "        ),\n",
    "        name = '{0} - {1}'.format(lim[0],lim[1]) )\n",
    "    \n",
    "    cities.append(city)\n",
    "\n",
    "layout = dict(\n",
    "        title = '2014 US city populations<br>(Click legend to toggle traces)',\n",
    "        showlegend = True,\n",
    "        geo = dict(\n",
    "            scope='usa',\n",
    "            projection=dict( type='albers usa' ),\n",
    "            showland = True,\n",
    "            landcolor = 'rgb(217, 217, 217)',\n",
    "            subunitwidth=1,\n",
    "            countrywidth=1,\n",
    "            subunitcolor=\"rgb(255, 255, 255)\",\n",
    "            countrycolor=\"rgb(255, 255, 255)\"\n",
    "        ),\n",
    "    )\n",
    "\n"
   ]
  },
  {
   "cell_type": "code",
<<<<<<< HEAD
   "execution_count": 8,
=======
   "execution_count": 64,
>>>>>>> 9088a579605e9e1d6894a139b02f17fdfea6a23e
   "metadata": {},
   "outputs": [
    {
     "name": "stdout",
     "output_type": "stream",
     "text": [
      "type\n",
      "locationmode\n",
      "lon\n",
      "lat\n",
      "text\n",
      "50            New Orleans <br>Population 0.360877 million\n",
      "51            Bakersfield <br>Population 0.353533 million\n",
      "52                  Tampa <br>Population 0.346934 million\n",
      "53                 Anaheim <br>Population 0.34083 million\n",
      "54              Santa Ana <br>Population 0.328856 million\n",
      "55              St. Louis <br>Population 0.319188 million\n",
      "56              Riverside <br>Population 0.310025 million\n",
      "57         Corpus Christi <br>Population 0.308069 million\n",
      "58             Pittsburgh <br>Population 0.306099 million\n",
      "59      Lexington-Fayette urban county<br>Population 0...\n",
      "60             Cincinnati <br>Population 0.296114 million\n",
      "61               Stockton <br>Population 0.295386 million\n",
      "62               St. Paul <br>Population 0.288884 million\n",
      "63                 Toledo <br>Population 0.285549 million\n",
      "64                 Newark <br>Population 0.277854 million\n",
      "65             Greensboro <br>Population 0.272521 million\n",
      "66                   Plano <br>Population 0.26762 million\n",
      "67                Lincoln <br>Population 0.262389 million\n",
      "68                Buffalo <br>Population 0.260525 million\n",
      "69              Henderson <br>Population 0.259958 million\n",
      "70             Fort Wayne <br>Population 0.254607 million\n",
      "71            Jersey City <br>Population 0.253117 million\n",
      "72            Chula Vista <br>Population 0.248684 million\n",
      "73         St. Petersburg <br>Population 0.246042 million\n",
      "74                Orlando <br>Population 0.243787 million\n",
      "75                 Laredo <br>Population 0.241188 million\n",
      "76               Chandler <br>Population 0.239977 million\n",
      "77                Madison <br>Population 0.236923 million\n",
      "78                Lubbock <br>Population 0.233586 million\n",
      "79          Winston-Salem <br>Population 0.231873 million\n",
      "                              ...                        \n",
      "2970    Rolling Hills Estates <br>Population 0.008127 ...\n",
      "2971              Caribou <br>Population 0.008114 million\n",
      "2972         South Boston <br>Population 0.008114 million\n",
      "2973              Decorah <br>Population 0.008112 million\n",
      "2974               Vinton <br>Population 0.008108 million\n",
      "2975                 Quincy <br>Population 0.0081 million\n",
      "2976           Smithfield <br>Population 0.008099 million\n",
      "2977               Seneca <br>Population 0.008094 million\n",
      "2978              Dalhart <br>Population 0.008091 million\n",
      "2979           New Albany <br>Population 0.008079 million\n",
      "2980         Purcellville <br>Population 0.008073 million\n",
      "2981               Newton <br>Population 0.008068 million\n",
      "2982       Oradell borough<br>Population 0.008052 million\n",
      "2983            Oak Grove <br>Population 0.008051 million\n",
      "2984              Flowood <br>Population 0.008049 million\n",
      "2985            Brentwood <br>Population 0.008043 million\n",
      "2986            Ludington <br>Population 0.008042 million\n",
      "2987           Greenville <br>Population 0.008033 million\n",
      "2988           Siler City <br>Population 0.008029 million\n",
      "2989    Brookhaven borough<br>Population 0.008016 million\n",
      "2990             Calimesa <br>Population 0.008009 million\n",
      "2991    Chestnut Ridge village<br>Population 0.008004 ...\n",
      "2992                Blair <br>Population 0.008002 million\n",
      "2993            Maplewood <br>Population 0.007998 million\n",
      "2994            Lake Elmo <br>Population 0.007989 million\n",
      "2995               Marion <br>Population 0.007981 million\n",
      "2996                Perry <br>Population 0.007973 million\n",
      "2997      Carnegie borough<br>Population 0.007968 million\n",
      "2998           Fort Scott <br>Population 0.007966 million\n",
      "2999            Jefferson <br>Population 0.007958 million\n",
      "Name: text, Length: 2950, dtype: object\n",
      "marker\n",
      "name\n"
     ]
    }
   ],
   "source": [
    "for i in city:\n",
    "    print(i)\n",
    "    \n",
    "    if i == 'text':\n",
    "        print(city[i])"
   ]
  },
  {
   "cell_type": "code",
<<<<<<< HEAD
   "execution_count": 9,
=======
   "execution_count": 49,
>>>>>>> 9088a579605e9e1d6894a139b02f17fdfea6a23e
   "metadata": {},
   "outputs": [
    {
     "name": "stdout",
     "output_type": "stream",
     "text": [
      "type 10\n",
      "scattergeo\n",
      "\n",
      "locationmode 10\n",
      "USA-states\n",
      "\n",
      "lon 2950\n",
      "lat 2950\n",
      "text 2950\n",
      "marker 4\n",
      "size 2950\n",
      "color 9\n",
      "  I am color lightgrey\n",
      "line 2\n",
      "sizemode 4\n",
      "name 9\n"
     ]
    }
   ],
   "source": [
    "import pprint\n",
    "for i in city:\n",
    "    print(i, len(city[i]))\n",
    "    \n",
    "    if i == 'type':\n",
    "        print(city[i], end='\\n\\n')\n",
    "    \n",
    "    if i == 'locationmode':\n",
    "        print(city[i], end='\\n\\n')\n",
    "        \n",
    "    if i == 'marker':\n",
    "        for marker_key in city[i]:\n",
    "            print(marker_key, len(city[i][marker_key]))\n",
    "            \n",
    "            if marker_key == 'color':\n",
    "                print('  I am color', city[i][marker_key])\n",
    "            \n",
    "    \n",
    "                \n",
    "        \n",
    "        \n",
    "        \n",
    "        \n",
    "        \n",
    "    "
   ]
  },
  {
   "cell_type": "code",
<<<<<<< HEAD
   "execution_count": 25,
   "metadata": {},
   "outputs": [
    {
     "ename": "PlotlyRequestError",
     "evalue": "Hi there, you've reached the threshold of 100 combined image exports and chart saves per 24h period. If you need to raise your daily limit, please consider upgrading to a paid plan\n(see: https://plot.ly/products/cloud ).",
     "output_type": "error",
     "traceback": [
      "\u001b[1;31m---------------------------------------------------------------------------\u001b[0m",
      "\u001b[1;31mPlotlyRequestError\u001b[0m                        Traceback (most recent call last)",
      "\u001b[1;32m<ipython-input-25-e2157a895121>\u001b[0m in \u001b[0;36m<module>\u001b[1;34m\u001b[0m\n\u001b[0;32m      1\u001b[0m \u001b[0mfig\u001b[0m \u001b[1;33m=\u001b[0m \u001b[0mdict\u001b[0m\u001b[1;33m(\u001b[0m\u001b[0mdata\u001b[0m\u001b[1;33m=\u001b[0m\u001b[0mcities\u001b[0m\u001b[1;33m,\u001b[0m \u001b[0mlayout\u001b[0m\u001b[1;33m=\u001b[0m\u001b[0mlayout\u001b[0m\u001b[1;33m)\u001b[0m\u001b[1;33m\u001b[0m\u001b[0m\n\u001b[1;32m----> 2\u001b[1;33m \u001b[0mpy\u001b[0m\u001b[1;33m.\u001b[0m\u001b[0miplot\u001b[0m\u001b[1;33m(\u001b[0m\u001b[0mfig\u001b[0m\u001b[1;33m,\u001b[0m \u001b[0mvalidate\u001b[0m\u001b[1;33m=\u001b[0m\u001b[1;32mFalse\u001b[0m\u001b[1;33m,\u001b[0m \u001b[0mfilename\u001b[0m\u001b[1;33m=\u001b[0m\u001b[1;34m'd3-bubble-map-populations'\u001b[0m\u001b[1;33m)\u001b[0m\u001b[1;33m\u001b[0m\u001b[0m\n\u001b[0m",
      "\u001b[1;32mc:\\users\\iisr\\desktop\\ccproject_da\\lib\\site-packages\\plotly\\plotly\\plotly.py\u001b[0m in \u001b[0;36miplot\u001b[1;34m(figure_or_data, **plot_options)\u001b[0m\n\u001b[0;32m    140\u001b[0m     \u001b[1;32mif\u001b[0m \u001b[1;34m'auto_open'\u001b[0m \u001b[1;32mnot\u001b[0m \u001b[1;32min\u001b[0m \u001b[0mplot_options\u001b[0m\u001b[1;33m:\u001b[0m\u001b[1;33m\u001b[0m\u001b[0m\n\u001b[0;32m    141\u001b[0m         \u001b[0mplot_options\u001b[0m\u001b[1;33m[\u001b[0m\u001b[1;34m'auto_open'\u001b[0m\u001b[1;33m]\u001b[0m \u001b[1;33m=\u001b[0m \u001b[1;32mFalse\u001b[0m\u001b[1;33m\u001b[0m\u001b[0m\n\u001b[1;32m--> 142\u001b[1;33m     \u001b[0murl\u001b[0m \u001b[1;33m=\u001b[0m \u001b[0mplot\u001b[0m\u001b[1;33m(\u001b[0m\u001b[0mfigure_or_data\u001b[0m\u001b[1;33m,\u001b[0m \u001b[1;33m**\u001b[0m\u001b[0mplot_options\u001b[0m\u001b[1;33m)\u001b[0m\u001b[1;33m\u001b[0m\u001b[0m\n\u001b[0m\u001b[0;32m    143\u001b[0m \u001b[1;33m\u001b[0m\u001b[0m\n\u001b[0;32m    144\u001b[0m     \u001b[1;32mif\u001b[0m \u001b[0misinstance\u001b[0m\u001b[1;33m(\u001b[0m\u001b[0mfigure_or_data\u001b[0m\u001b[1;33m,\u001b[0m \u001b[0mdict\u001b[0m\u001b[1;33m)\u001b[0m\u001b[1;33m:\u001b[0m\u001b[1;33m\u001b[0m\u001b[0m\n",
      "\u001b[1;32mc:\\users\\iisr\\desktop\\ccproject_da\\lib\\site-packages\\plotly\\plotly\\plotly.py\u001b[0m in \u001b[0;36mplot\u001b[1;34m(figure_or_data, validate, **plot_options)\u001b[0m\n\u001b[0;32m    237\u001b[0m     \u001b[0mdata\u001b[0m \u001b[1;33m=\u001b[0m \u001b[0mfig\u001b[0m\u001b[1;33m.\u001b[0m\u001b[0mget\u001b[0m\u001b[1;33m(\u001b[0m\u001b[1;34m'data'\u001b[0m\u001b[1;33m,\u001b[0m \u001b[1;33m[\u001b[0m\u001b[1;33m]\u001b[0m\u001b[1;33m)\u001b[0m\u001b[1;33m\u001b[0m\u001b[0m\n\u001b[0;32m    238\u001b[0m     \u001b[0mplot_options\u001b[0m\u001b[1;33m[\u001b[0m\u001b[1;34m'layout'\u001b[0m\u001b[1;33m]\u001b[0m \u001b[1;33m=\u001b[0m \u001b[0mfig\u001b[0m\u001b[1;33m.\u001b[0m\u001b[0mget\u001b[0m\u001b[1;33m(\u001b[0m\u001b[1;34m'layout'\u001b[0m\u001b[1;33m,\u001b[0m \u001b[1;33m{\u001b[0m\u001b[1;33m}\u001b[0m\u001b[1;33m)\u001b[0m\u001b[1;33m\u001b[0m\u001b[0m\n\u001b[1;32m--> 239\u001b[1;33m     \u001b[0mresponse\u001b[0m \u001b[1;33m=\u001b[0m \u001b[0mv1\u001b[0m\u001b[1;33m.\u001b[0m\u001b[0mclientresp\u001b[0m\u001b[1;33m(\u001b[0m\u001b[0mdata\u001b[0m\u001b[1;33m,\u001b[0m \u001b[1;33m**\u001b[0m\u001b[0mplot_options\u001b[0m\u001b[1;33m)\u001b[0m\u001b[1;33m\u001b[0m\u001b[0m\n\u001b[0m\u001b[0;32m    240\u001b[0m \u001b[1;33m\u001b[0m\u001b[0m\n\u001b[0;32m    241\u001b[0m     \u001b[1;31m# Check if the url needs a secret key\u001b[0m\u001b[1;33m\u001b[0m\u001b[1;33m\u001b[0m\u001b[0m\n",
      "\u001b[1;32mc:\\users\\iisr\\desktop\\ccproject_da\\lib\\site-packages\\plotly\\api\\v1\\clientresp.py\u001b[0m in \u001b[0;36mclientresp\u001b[1;34m(data, **kwargs)\u001b[0m\n\u001b[0;32m     33\u001b[0m \u001b[1;33m\u001b[0m\u001b[0m\n\u001b[0;32m     34\u001b[0m     \u001b[0murl\u001b[0m \u001b[1;33m=\u001b[0m \u001b[1;34m'{plotly_domain}/clientresp'\u001b[0m\u001b[1;33m.\u001b[0m\u001b[0mformat\u001b[0m\u001b[1;33m(\u001b[0m\u001b[1;33m**\u001b[0m\u001b[0mcfg\u001b[0m\u001b[1;33m)\u001b[0m\u001b[1;33m\u001b[0m\u001b[0m\n\u001b[1;32m---> 35\u001b[1;33m     \u001b[0mresponse\u001b[0m \u001b[1;33m=\u001b[0m \u001b[0mrequest\u001b[0m\u001b[1;33m(\u001b[0m\u001b[1;34m'post'\u001b[0m\u001b[1;33m,\u001b[0m \u001b[0murl\u001b[0m\u001b[1;33m,\u001b[0m \u001b[0mdata\u001b[0m\u001b[1;33m=\u001b[0m\u001b[0mpayload\u001b[0m\u001b[1;33m)\u001b[0m\u001b[1;33m\u001b[0m\u001b[0m\n\u001b[0m\u001b[0;32m     36\u001b[0m \u001b[1;33m\u001b[0m\u001b[0m\n\u001b[0;32m     37\u001b[0m     \u001b[1;31m# Old functionality, just keeping it around.\u001b[0m\u001b[1;33m\u001b[0m\u001b[1;33m\u001b[0m\u001b[0m\n",
      "\u001b[1;32mc:\\users\\iisr\\desktop\\ccproject_da\\lib\\site-packages\\retrying.py\u001b[0m in \u001b[0;36mwrapped_f\u001b[1;34m(*args, **kw)\u001b[0m\n\u001b[0;32m     47\u001b[0m             \u001b[1;33m@\u001b[0m\u001b[0msix\u001b[0m\u001b[1;33m.\u001b[0m\u001b[0mwraps\u001b[0m\u001b[1;33m(\u001b[0m\u001b[0mf\u001b[0m\u001b[1;33m)\u001b[0m\u001b[1;33m\u001b[0m\u001b[0m\n\u001b[0;32m     48\u001b[0m             \u001b[1;32mdef\u001b[0m \u001b[0mwrapped_f\u001b[0m\u001b[1;33m(\u001b[0m\u001b[1;33m*\u001b[0m\u001b[0margs\u001b[0m\u001b[1;33m,\u001b[0m \u001b[1;33m**\u001b[0m\u001b[0mkw\u001b[0m\u001b[1;33m)\u001b[0m\u001b[1;33m:\u001b[0m\u001b[1;33m\u001b[0m\u001b[0m\n\u001b[1;32m---> 49\u001b[1;33m                 \u001b[1;32mreturn\u001b[0m \u001b[0mRetrying\u001b[0m\u001b[1;33m(\u001b[0m\u001b[1;33m*\u001b[0m\u001b[0mdargs\u001b[0m\u001b[1;33m,\u001b[0m \u001b[1;33m**\u001b[0m\u001b[0mdkw\u001b[0m\u001b[1;33m)\u001b[0m\u001b[1;33m.\u001b[0m\u001b[0mcall\u001b[0m\u001b[1;33m(\u001b[0m\u001b[0mf\u001b[0m\u001b[1;33m,\u001b[0m \u001b[1;33m*\u001b[0m\u001b[0margs\u001b[0m\u001b[1;33m,\u001b[0m \u001b[1;33m**\u001b[0m\u001b[0mkw\u001b[0m\u001b[1;33m)\u001b[0m\u001b[1;33m\u001b[0m\u001b[0m\n\u001b[0m\u001b[0;32m     50\u001b[0m \u001b[1;33m\u001b[0m\u001b[0m\n\u001b[0;32m     51\u001b[0m             \u001b[1;32mreturn\u001b[0m \u001b[0mwrapped_f\u001b[0m\u001b[1;33m\u001b[0m\u001b[0m\n",
      "\u001b[1;32mc:\\users\\iisr\\desktop\\ccproject_da\\lib\\site-packages\\retrying.py\u001b[0m in \u001b[0;36mcall\u001b[1;34m(self, fn, *args, **kwargs)\u001b[0m\n\u001b[0;32m    204\u001b[0m \u001b[1;33m\u001b[0m\u001b[0m\n\u001b[0;32m    205\u001b[0m             \u001b[1;32mif\u001b[0m \u001b[1;32mnot\u001b[0m \u001b[0mself\u001b[0m\u001b[1;33m.\u001b[0m\u001b[0mshould_reject\u001b[0m\u001b[1;33m(\u001b[0m\u001b[0mattempt\u001b[0m\u001b[1;33m)\u001b[0m\u001b[1;33m:\u001b[0m\u001b[1;33m\u001b[0m\u001b[0m\n\u001b[1;32m--> 206\u001b[1;33m                 \u001b[1;32mreturn\u001b[0m \u001b[0mattempt\u001b[0m\u001b[1;33m.\u001b[0m\u001b[0mget\u001b[0m\u001b[1;33m(\u001b[0m\u001b[0mself\u001b[0m\u001b[1;33m.\u001b[0m\u001b[0m_wrap_exception\u001b[0m\u001b[1;33m)\u001b[0m\u001b[1;33m\u001b[0m\u001b[0m\n\u001b[0m\u001b[0;32m    207\u001b[0m \u001b[1;33m\u001b[0m\u001b[0m\n\u001b[0;32m    208\u001b[0m             \u001b[0mdelay_since_first_attempt_ms\u001b[0m \u001b[1;33m=\u001b[0m \u001b[0mint\u001b[0m\u001b[1;33m(\u001b[0m\u001b[0mround\u001b[0m\u001b[1;33m(\u001b[0m\u001b[0mtime\u001b[0m\u001b[1;33m.\u001b[0m\u001b[0mtime\u001b[0m\u001b[1;33m(\u001b[0m\u001b[1;33m)\u001b[0m \u001b[1;33m*\u001b[0m \u001b[1;36m1000\u001b[0m\u001b[1;33m)\u001b[0m\u001b[1;33m)\u001b[0m \u001b[1;33m-\u001b[0m \u001b[0mstart_time\u001b[0m\u001b[1;33m\u001b[0m\u001b[0m\n",
      "\u001b[1;32mc:\\users\\iisr\\desktop\\ccproject_da\\lib\\site-packages\\retrying.py\u001b[0m in \u001b[0;36mget\u001b[1;34m(self, wrap_exception)\u001b[0m\n\u001b[0;32m    245\u001b[0m                 \u001b[1;32mraise\u001b[0m \u001b[0mRetryError\u001b[0m\u001b[1;33m(\u001b[0m\u001b[0mself\u001b[0m\u001b[1;33m)\u001b[0m\u001b[1;33m\u001b[0m\u001b[0m\n\u001b[0;32m    246\u001b[0m             \u001b[1;32melse\u001b[0m\u001b[1;33m:\u001b[0m\u001b[1;33m\u001b[0m\u001b[0m\n\u001b[1;32m--> 247\u001b[1;33m                 \u001b[0msix\u001b[0m\u001b[1;33m.\u001b[0m\u001b[0mreraise\u001b[0m\u001b[1;33m(\u001b[0m\u001b[0mself\u001b[0m\u001b[1;33m.\u001b[0m\u001b[0mvalue\u001b[0m\u001b[1;33m[\u001b[0m\u001b[1;36m0\u001b[0m\u001b[1;33m]\u001b[0m\u001b[1;33m,\u001b[0m \u001b[0mself\u001b[0m\u001b[1;33m.\u001b[0m\u001b[0mvalue\u001b[0m\u001b[1;33m[\u001b[0m\u001b[1;36m1\u001b[0m\u001b[1;33m]\u001b[0m\u001b[1;33m,\u001b[0m \u001b[0mself\u001b[0m\u001b[1;33m.\u001b[0m\u001b[0mvalue\u001b[0m\u001b[1;33m[\u001b[0m\u001b[1;36m2\u001b[0m\u001b[1;33m]\u001b[0m\u001b[1;33m)\u001b[0m\u001b[1;33m\u001b[0m\u001b[0m\n\u001b[0m\u001b[0;32m    248\u001b[0m         \u001b[1;32melse\u001b[0m\u001b[1;33m:\u001b[0m\u001b[1;33m\u001b[0m\u001b[0m\n\u001b[0;32m    249\u001b[0m             \u001b[1;32mreturn\u001b[0m \u001b[0mself\u001b[0m\u001b[1;33m.\u001b[0m\u001b[0mvalue\u001b[0m\u001b[1;33m\u001b[0m\u001b[0m\n",
      "\u001b[1;32mc:\\users\\iisr\\desktop\\ccproject_da\\lib\\site-packages\\six.py\u001b[0m in \u001b[0;36mreraise\u001b[1;34m(tp, value, tb)\u001b[0m\n\u001b[0;32m    691\u001b[0m             \u001b[1;32mif\u001b[0m \u001b[0mvalue\u001b[0m\u001b[1;33m.\u001b[0m\u001b[0m__traceback__\u001b[0m \u001b[1;32mis\u001b[0m \u001b[1;32mnot\u001b[0m \u001b[0mtb\u001b[0m\u001b[1;33m:\u001b[0m\u001b[1;33m\u001b[0m\u001b[0m\n\u001b[0;32m    692\u001b[0m                 \u001b[1;32mraise\u001b[0m \u001b[0mvalue\u001b[0m\u001b[1;33m.\u001b[0m\u001b[0mwith_traceback\u001b[0m\u001b[1;33m(\u001b[0m\u001b[0mtb\u001b[0m\u001b[1;33m)\u001b[0m\u001b[1;33m\u001b[0m\u001b[0m\n\u001b[1;32m--> 693\u001b[1;33m             \u001b[1;32mraise\u001b[0m \u001b[0mvalue\u001b[0m\u001b[1;33m\u001b[0m\u001b[0m\n\u001b[0m\u001b[0;32m    694\u001b[0m         \u001b[1;32mfinally\u001b[0m\u001b[1;33m:\u001b[0m\u001b[1;33m\u001b[0m\u001b[0m\n\u001b[0;32m    695\u001b[0m             \u001b[0mvalue\u001b[0m \u001b[1;33m=\u001b[0m \u001b[1;32mNone\u001b[0m\u001b[1;33m\u001b[0m\u001b[0m\n",
      "\u001b[1;32mc:\\users\\iisr\\desktop\\ccproject_da\\lib\\site-packages\\retrying.py\u001b[0m in \u001b[0;36mcall\u001b[1;34m(self, fn, *args, **kwargs)\u001b[0m\n\u001b[0;32m    198\u001b[0m         \u001b[1;32mwhile\u001b[0m \u001b[1;32mTrue\u001b[0m\u001b[1;33m:\u001b[0m\u001b[1;33m\u001b[0m\u001b[0m\n\u001b[0;32m    199\u001b[0m             \u001b[1;32mtry\u001b[0m\u001b[1;33m:\u001b[0m\u001b[1;33m\u001b[0m\u001b[0m\n\u001b[1;32m--> 200\u001b[1;33m                 \u001b[0mattempt\u001b[0m \u001b[1;33m=\u001b[0m \u001b[0mAttempt\u001b[0m\u001b[1;33m(\u001b[0m\u001b[0mfn\u001b[0m\u001b[1;33m(\u001b[0m\u001b[1;33m*\u001b[0m\u001b[0margs\u001b[0m\u001b[1;33m,\u001b[0m \u001b[1;33m**\u001b[0m\u001b[0mkwargs\u001b[0m\u001b[1;33m)\u001b[0m\u001b[1;33m,\u001b[0m \u001b[0mattempt_number\u001b[0m\u001b[1;33m,\u001b[0m \u001b[1;32mFalse\u001b[0m\u001b[1;33m)\u001b[0m\u001b[1;33m\u001b[0m\u001b[0m\n\u001b[0m\u001b[0;32m    201\u001b[0m             \u001b[1;32mexcept\u001b[0m\u001b[1;33m:\u001b[0m\u001b[1;33m\u001b[0m\u001b[0m\n\u001b[0;32m    202\u001b[0m                 \u001b[0mtb\u001b[0m \u001b[1;33m=\u001b[0m \u001b[0msys\u001b[0m\u001b[1;33m.\u001b[0m\u001b[0mexc_info\u001b[0m\u001b[1;33m(\u001b[0m\u001b[1;33m)\u001b[0m\u001b[1;33m\u001b[0m\u001b[0m\n",
      "\u001b[1;32mc:\\users\\iisr\\desktop\\ccproject_da\\lib\\site-packages\\plotly\\api\\v1\\utils.py\u001b[0m in \u001b[0;36mrequest\u001b[1;34m(method, url, **kwargs)\u001b[0m\n\u001b[0;32m     88\u001b[0m         \u001b[0mcontent\u001b[0m \u001b[1;33m=\u001b[0m \u001b[0mresponse\u001b[0m\u001b[1;33m.\u001b[0m\u001b[0mcontent\u001b[0m \u001b[1;32mif\u001b[0m \u001b[0mresponse\u001b[0m \u001b[1;32melse\u001b[0m \u001b[1;34m'No content'\u001b[0m\u001b[1;33m\u001b[0m\u001b[0m\n\u001b[0;32m     89\u001b[0m         \u001b[1;32mraise\u001b[0m \u001b[0mexceptions\u001b[0m\u001b[1;33m.\u001b[0m\u001b[0mPlotlyRequestError\u001b[0m\u001b[1;33m(\u001b[0m\u001b[0mmessage\u001b[0m\u001b[1;33m,\u001b[0m \u001b[0mstatus_code\u001b[0m\u001b[1;33m,\u001b[0m \u001b[0mcontent\u001b[0m\u001b[1;33m)\u001b[0m\u001b[1;33m\u001b[0m\u001b[0m\n\u001b[1;32m---> 90\u001b[1;33m     \u001b[0mvalidate_response\u001b[0m\u001b[1;33m(\u001b[0m\u001b[0mresponse\u001b[0m\u001b[1;33m)\u001b[0m\u001b[1;33m\u001b[0m\u001b[0m\n\u001b[0m\u001b[0;32m     91\u001b[0m     \u001b[1;32mreturn\u001b[0m \u001b[0mresponse\u001b[0m\u001b[1;33m\u001b[0m\u001b[0m\n",
      "\u001b[1;32mc:\\users\\iisr\\desktop\\ccproject_da\\lib\\site-packages\\plotly\\api\\v1\\utils.py\u001b[0m in \u001b[0;36mvalidate_response\u001b[1;34m(response)\u001b[0m\n\u001b[0;32m     38\u001b[0m         \u001b[0mmessage\u001b[0m \u001b[1;33m=\u001b[0m \u001b[0mcontent\u001b[0m \u001b[1;32mif\u001b[0m \u001b[0mcontent\u001b[0m \u001b[1;32melse\u001b[0m \u001b[1;34m'No Content'\u001b[0m\u001b[1;33m\u001b[0m\u001b[0m\n\u001b[0;32m     39\u001b[0m \u001b[1;33m\u001b[0m\u001b[0m\n\u001b[1;32m---> 40\u001b[1;33m     \u001b[1;32mraise\u001b[0m \u001b[0mexceptions\u001b[0m\u001b[1;33m.\u001b[0m\u001b[0mPlotlyRequestError\u001b[0m\u001b[1;33m(\u001b[0m\u001b[0mmessage\u001b[0m\u001b[1;33m,\u001b[0m \u001b[0mstatus_code\u001b[0m\u001b[1;33m,\u001b[0m \u001b[0mcontent\u001b[0m\u001b[1;33m)\u001b[0m\u001b[1;33m\u001b[0m\u001b[0m\n\u001b[0m\u001b[0;32m     41\u001b[0m \u001b[1;33m\u001b[0m\u001b[0m\n\u001b[0;32m     42\u001b[0m \u001b[1;33m\u001b[0m\u001b[0m\n",
      "\u001b[1;31mPlotlyRequestError\u001b[0m: Hi there, you've reached the threshold of 100 combined image exports and chart saves per 24h period. If you need to raise your daily limit, please consider upgrading to a paid plan\n(see: https://plot.ly/products/cloud )."
     ]
=======
   "execution_count": 32,
   "metadata": {},
   "outputs": [
    {
     "data": {
      "text/html": [
       "<iframe id=\"igraph\" scrolling=\"no\" style=\"border:none;\" seamless=\"seamless\" src=\"https://plot.ly/~Pin-JieLin/2.embed\" height=\"525px\" width=\"100%\"></iframe>"
      ],
      "text/plain": [
       "<plotly.tools.PlotlyDisplay object>"
      ]
     },
     "execution_count": 32,
     "metadata": {},
     "output_type": "execute_result"
>>>>>>> 9088a579605e9e1d6894a139b02f17fdfea6a23e
    }
   ],
   "source": [
    "fig = dict(data=cities, layout=layout)\n",
    "py.iplot(fig, validate=False, filename='d3-bubble-map-populations')"
   ]
  },
  {
   "cell_type": "code",
   "execution_count": null,
   "metadata": {},
   "outputs": [],
   "source": []
  }
 ],
 "metadata": {
  "kernelspec": {
<<<<<<< HEAD
   "display_name": "ccProject_dA",
   "language": "python",
   "name": "ccproject_da"
  },
  "language_info": {
   "codemirror_mode": {
    "name": "ipython",
    "version": 3
   },
   "file_extension": ".py",
   "mimetype": "text/x-python",
   "name": "python",
   "nbconvert_exporter": "python",
   "pygments_lexer": "ipython3",
   "version": "3.6.4"
=======
   "display_name": "copy_ccProject_dA",
   "language": "python",
   "name": "copy_ccproject_da"
>>>>>>> 9088a579605e9e1d6894a139b02f17fdfea6a23e
  }
 },
 "nbformat": 4,
 "nbformat_minor": 2
}
