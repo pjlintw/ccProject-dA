{
 "cells": [
  {
   "cell_type": "code",
   "execution_count": 10,
   "metadata": {},
   "outputs": [],
   "source": [
    "# visualization\n",
    "import plotly.plotly as py\n",
    "import plotly\n",
    "import pandas as pd\n",
    "plotly.tools.set_credentials_file(username='Pin-JieLin', api_key='Iyc6N3RgzMAXplWEZjb9')"
   ]
  },
  {
   "cell_type": "code",
   "execution_count": 11,
   "metadata": {},
   "outputs": [
    {
     "name": "stdout",
     "output_type": "stream",
     "text": [
      "<class 'pandas.core.frame.DataFrame'>\n",
      "Int64Index: 30 entries, 1 to 30\n",
      "Data columns (total 4 columns):\n",
      "team    30 non-null object\n",
      "win     30 non-null int64\n",
      "lat     30 non-null float64\n",
      "lon     30 non-null float64\n",
      "dtypes: float64(2), int64(1), object(1)\n",
      "memory usage: 1.2+ KB\n"
     ]
    }
   ],
   "source": [
    "new_df = pd.read_excel('data/draw_wins_map.xlsx')\n",
    "#df2 = df2.convert_objects(convert_numeric=True)\n",
    "new_df.info()\n",
    "new_df.sort_values('win', ascending=False, inplace=True)"
   ]
  },
  {
   "cell_type": "code",
   "execution_count": 12,
   "metadata": {},
   "outputs": [
    {
     "data": {
      "text/html": [
       "<div>\n",
       "<style scoped>\n",
       "    .dataframe tbody tr th:only-of-type {\n",
       "        vertical-align: middle;\n",
       "    }\n",
       "\n",
       "    .dataframe tbody tr th {\n",
       "        vertical-align: top;\n",
       "    }\n",
       "\n",
       "    .dataframe thead th {\n",
       "        text-align: right;\n",
       "    }\n",
       "</style>\n",
       "<table border=\"1\" class=\"dataframe\">\n",
       "  <thead>\n",
       "    <tr style=\"text-align: right;\">\n",
       "      <th></th>\n",
       "      <th>team</th>\n",
       "      <th>win</th>\n",
       "      <th>lat</th>\n",
       "      <th>lon</th>\n",
       "    </tr>\n",
       "  </thead>\n",
       "  <tbody>\n",
       "    <tr>\n",
       "      <th>1</th>\n",
       "      <td>San Antonio Spurs</td>\n",
       "      <td>1086</td>\n",
       "      <td>29.426944</td>\n",
       "      <td>-98.437500</td>\n",
       "    </tr>\n",
       "    <tr>\n",
       "      <th>2</th>\n",
       "      <td>Dallas Mavericks</td>\n",
       "      <td>929</td>\n",
       "      <td>32.790723</td>\n",
       "      <td>-96.810344</td>\n",
       "    </tr>\n",
       "    <tr>\n",
       "      <th>3</th>\n",
       "      <td>Charlotte Hornets</td>\n",
       "      <td>918</td>\n",
       "      <td>35.226089</td>\n",
       "      <td>-80.839063</td>\n",
       "    </tr>\n",
       "    <tr>\n",
       "      <th>4</th>\n",
       "      <td>Houston Rockets</td>\n",
       "      <td>886</td>\n",
       "      <td>29.751028</td>\n",
       "      <td>-95.362083</td>\n",
       "    </tr>\n",
       "    <tr>\n",
       "      <th>5</th>\n",
       "      <td>Miami Heat</td>\n",
       "      <td>852</td>\n",
       "      <td>25.781611</td>\n",
       "      <td>-80.187000</td>\n",
       "    </tr>\n",
       "  </tbody>\n",
       "</table>\n",
       "</div>"
      ],
      "text/plain": [
       "                team   win        lat        lon\n",
       "1  San Antonio Spurs  1086  29.426944 -98.437500\n",
       "2   Dallas Mavericks   929  32.790723 -96.810344\n",
       "3  Charlotte Hornets   918  35.226089 -80.839063\n",
       "4    Houston Rockets   886  29.751028 -95.362083\n",
       "5         Miami Heat   852  25.781611 -80.187000"
      ]
     },
     "execution_count": 12,
     "metadata": {},
     "output_type": "execute_result"
    }
   ],
   "source": [
    "new_df.head()"
   ]
  },
  {
   "cell_type": "code",
   "execution_count": 13,
   "metadata": {},
   "outputs": [
    {
     "data": {
      "text/plain": [
       "1         San Antonio Spurs <br>1086 勝場\n",
       "2           Dallas Mavericks <br>929 勝場\n",
       "3          Charlotte Hornets <br>918 勝場\n",
       "4            Houston Rockets <br>886 勝場\n",
       "5                 Miami Heat <br>852 勝場\n",
       "6             Boston Celtics <br>839 勝場\n",
       "7         Los Angeles Lakers <br>838 勝場\n",
       "8      Oklahoma City Thunder <br>836 勝場\n",
       "9                  Utah Jazz <br>830 勝場\n",
       "10            Indiana Pacers <br>825 勝場\n",
       "11    Portland Trail Blazers <br>814 勝場\n",
       "12           Detroit Pistons <br>790 勝場\n",
       "13     Golden State Warriors <br>789 勝場\n",
       "14            Denver Nuggets <br>785 勝場\n",
       "15              Phoenix Suns <br>778 勝場\n",
       "16       Cleveland Cavaliers <br>762 勝場\n",
       "17           Toronto Raptors <br>755 勝場\n",
       "18      Los Angeles Clippers <br>733 勝場\n",
       "19             Chicago Bulls <br>726 勝場\n",
       "20             Orlando Magic <br>725 勝場\n",
       "21           Milwaukee Bucks <br>706 勝場\n",
       "22             Atlanta Hawks <br>705 勝場\n",
       "23         Memphis Grizzlies <br>705 勝場\n",
       "24          Sacramento Kings <br>702 勝場\n",
       "25        Philadelphia 76ers <br>688 勝場\n",
       "26             Brooklyn Nets <br>660 勝場\n",
       "27        Washington Wizards <br>658 勝場\n",
       "28    Minnesota Timberwolves <br>651 勝場\n",
       "29           New York Knicks <br>641 勝場\n",
       "30      New Orleans Pelicans <br>283 勝場\n",
       "Name: text, dtype: object"
      ]
     },
     "execution_count": 13,
     "metadata": {},
     "output_type": "execute_result"
    }
   ],
   "source": [
    "new_df['text'] = new_df['team'] + ' <br>' + (new_df['win']).astype(str)+' 勝場'\n",
    "new_df['text']"
   ]
  },
  {
   "cell_type": "code",
   "execution_count": 14,
   "metadata": {},
   "outputs": [],
   "source": [
    "limits = [(0,2),(3,10),(11,20),(21,50),(50,3000)]\n",
    "limits = [(0,4),(4,10),(10,15),(15,20),(20,31)]\n",
    "colors = [\"rgb(0,116,217)\",\"rgb(255,65,54)\",\"rgb(133,20,75)\",\"rgb(255,133,27)\",\"rgb(27, 188,155)\"]\n",
    "cities = []\n",
    "scale = 5000"
   ]
  },
  {
   "cell_type": "code",
   "execution_count": 15,
   "metadata": {},
   "outputs": [
    {
     "data": {
      "text/plain": [
       "0.9503943545039435"
      ]
     },
     "execution_count": 15,
     "metadata": {},
     "output_type": "execute_result"
    }
   ],
   "source": [
    "mean = new_df['win'].mean()\n",
    "d_min = min(new_df['win'])\n",
    "d_max = max(new_df['win'])\n",
    "#print(mean, d_min, d_max)\n",
    "f = mean / (d_max - d_min)\n",
    "f"
   ]
  },
  {
   "cell_type": "code",
   "execution_count": 16,
   "metadata": {},
   "outputs": [
    {
     "name": "stdout",
     "output_type": "stream",
     "text": [
      "1     1032.128269\n",
      "2      882.916355\n",
      "3      872.462017\n",
      "4      842.049398\n",
      "5      809.735990\n",
      "6      797.380863\n",
      "7      796.430469\n",
      "8      794.529680\n",
      "9      788.827314\n",
      "10     784.075342\n",
      "11     773.621005\n",
      "12     750.811540\n",
      "13     749.861146\n",
      "14     746.059568\n",
      "15     739.406808\n",
      "16     724.200498\n",
      "17     717.547738\n",
      "18     696.639062\n",
      "19     689.986301\n",
      "20     689.035907\n",
      "21     670.978414\n",
      "22     670.028020\n",
      "23     670.028020\n",
      "24     667.176837\n",
      "25     653.871316\n",
      "26     627.260274\n",
      "27     625.359485\n",
      "28     618.706725\n",
      "29     609.202781\n",
      "30     268.961602\n",
      "Name: win, dtype: float64\n"
     ]
    }
   ],
   "source": [
    "print(new_df['win']  * f)"
   ]
  },
  {
   "cell_type": "code",
   "execution_count": 17,
   "metadata": {},
   "outputs": [
    {
     "data": {
      "text/html": [
       "<iframe id=\"igraph\" scrolling=\"no\" style=\"border:none;\" seamless=\"seamless\" src=\"https://plot.ly/~Pin-JieLin/2.embed\" height=\"525px\" width=\"100%\"></iframe>"
      ],
      "text/plain": [
       "<plotly.tools.PlotlyDisplay object>"
      ]
     },
     "execution_count": 17,
     "metadata": {},
     "output_type": "execute_result"
    }
   ],
   "source": [
    "rank_lst = [(1,4), (5,10), (11,15), (16,20), (21,30)]\n",
    "for i in range(len(limits)):\n",
    "    lim = limits[i]\n",
    "    df_sub = new_df[lim[0]:lim[1]]\n",
    "    city = dict(\n",
    "        type = 'scattergeo',\n",
    "        locationmode = 'USA-states',\n",
    "        lon = df_sub['lon'],\n",
    "        lat = df_sub['lat'],\n",
    "        text = df_sub['text'],\n",
    "        marker = dict(\n",
    "            #size = (df_sub['win'] / min(new_df['win']) )  ** 7,\n",
    "            size = ((df_sub['win'] * 2) / (mean) ) ** 8 ,\n",
    "            # sizeref = 2. * max(df_sub['pop']/scale) / (25 ** 2),\n",
    "            color = colors[i],\n",
    "            line = dict(width=0.5, color='rgb(40,40,40)'),\n",
    "            sizemode = 'area'\n",
    "        ),\n",
    "        name = '{0} - {1}'.format(rank_lst[i][0],rank_lst[i][1]) )\n",
    "    \n",
    "\n",
    "    cities.append(city)\n",
    "    \n",
    "\n",
    "layout = dict(\n",
    "        title = 'NBA 20個賽季下的王者<br><br>1998-99 to 2017-18' ,\n",
    "        showlegend = True,\n",
    "        geo = dict(\n",
    "            scope='usa',\n",
    "            projection=dict( type='albers usa' ),\n",
    "            showland = True,\n",
    "            landcolor = 'rgb(217, 217, 217)',\n",
    "            subunitwidth=1,\n",
    "            countrywidth=1,\n",
    "            subunitcolor=\"rgb(255, 255, 255)\",\n",
    "            countrycolor=\"rgb(255, 255, 255)\"\n",
    "        ),\n",
    "    )\n",
    "\n",
    "fig = dict(data=cities, layout=layout)\n",
    "py.iplot(fig, validate=False, filename='d3-bubble-map-populations')"
   ]
  }
 ],
 "metadata": {
  "kernelspec": {
   "display_name": "ccProject_nbaDa",
   "language": "python",
   "name": "ccproject_nbada"
  },
  "language_info": {
   "codemirror_mode": {
    "name": "ipython",
    "version": 3
   },
   "file_extension": ".py",
   "mimetype": "text/x-python",
   "name": "python",
   "nbconvert_exporter": "python",
   "pygments_lexer": "ipython3",
   "version": "3.6.7"
  }
 },
 "nbformat": 4,
 "nbformat_minor": 2
}
