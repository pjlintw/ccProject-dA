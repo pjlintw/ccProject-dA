{
 "cells": [
  {
   "cell_type": "code",
   "execution_count": 80,
   "metadata": {},
   "outputs": [],
   "source": [
    "from openpyxl import load_workbook\n",
    "import pandas as pd\n",
    "from pprint import pprint"
   ]
  },
  {
   "cell_type": "code",
   "execution_count": 132,
   "metadata": {},
   "outputs": [],
   "source": [
    "\n",
    "wb = load_workbook(r\"nba_regu.xlsx\")\n",
    "\n",
    "my_dict = dict()\n",
    "\n",
    "for sheet in wb.worksheets:\n",
    "    df = pd.DataFrame(sheet.values, columns=df.iloc[0])\n",
    "    \n",
    "    \n",
    "    for index, row in df.iterrows():\n",
    "        if 'TEAM' not in df.columns:\n",
    "            print(sheet)\n",
    "            \n",
    "        team_name = row['TEAM']\n",
    "        win = row['W']\n",
    "        \n",
    "        if team_name == None or team_name == 'TEAM':\n",
    "            pass\n",
    "        else:\n",
    "            if team_name not in my_dict:\n",
    "                my_dict[team_name] = int(win)\n",
    "            else:\n",
    "                my_dict[team_name] += int(win)\n",
    "                \n",
    "        "
   ]
  },
  {
   "cell_type": "code",
   "execution_count": 133,
   "metadata": {
    "scrolled": false
   },
   "outputs": [
    {
     "name": "stdout",
     "output_type": "stream",
     "text": [
      "206\n",
      "31\n",
      "329\n",
      "163\n"
     ]
    },
    {
     "data": {
      "text/plain": [
       "33"
      ]
     },
     "metadata": {},
     "output_type": "display_data"
    },
    {
     "data": {
      "text/plain": [
       "{'Houston Rockets': 886,\n",
       " 'Toronto Raptors': 755,\n",
       " 'Golden State Warriors': 789,\n",
       " 'Boston Celtics': 839,\n",
       " 'Philadelphia 76ers': 688,\n",
       " 'Cleveland Cavaliers': 762,\n",
       " 'Portland Trail Blazers': 814,\n",
       " 'Indiana Pacers': 825,\n",
       " 'Oklahoma City Thunder': 836,\n",
       " 'Utah Jazz': 830,\n",
       " 'Minnesota Timberwolves': 651,\n",
       " 'San Antonio Spurs': 1086,\n",
       " 'Denver Nuggets': 785,\n",
       " 'Miami Heat': 852,\n",
       " 'Milwaukee Bucks': 706,\n",
       " 'Washington Wizards': 658,\n",
       " 'Detroit Pistons': 790,\n",
       " 'Charlotte Hornets': 283,\n",
       " 'Los Angeles Lakers': 838,\n",
       " 'New York Knicks': 641,\n",
       " 'Brooklyn Nets': 212,\n",
       " 'Chicago Bulls': 726,\n",
       " 'Sacramento Kings': 702,\n",
       " 'Orlando Magic': 725,\n",
       " 'Atlanta Hawks': 705,\n",
       " 'Dallas Mavericks': 929,\n",
       " 'Memphis Grizzlies': 705,\n",
       " 'Phoenix Suns': 778,\n",
       " 'Los Angeles Clippers': 733,\n",
       " 'Charlotte Bobcats': 293,\n",
       " 'New Orleans Hornets': 548,\n",
       " 'New Jersey Nets': 448,\n",
       " 'New Orleans/Oklahoma City Hornets': 77}"
      ]
     },
     "metadata": {},
     "output_type": "display_data"
    }
   ],
   "source": [
    "# New Orleans Pelicans\n",
    "print(my_dict['New Orleans Pelicans'])\n",
    "\n",
    "my_dict['New Orleans Pelicans'] = my_dict['New Orleans Pelicans'] + my_dict['']\n",
    "del my_dict['']\n",
    "\n",
    "\n",
    "# Vancouver Grizzlies\n",
    "print(my_dict['Vancouver Grizzlies'])\n",
    "\n",
    "my_dict['Memphis Grizzlies'] = my_dict['Memphis Grizzlies'] + my_dict['Vancouver Grizzlies']\n",
    "del my_dict['Vancouver Grizzlies']\n",
    "\n",
    "\n",
    "\n",
    "# Seattle SuperSonics\n",
    "print(my_dict['Seattle SuperSonics'])\n",
    "\n",
    "my_dict['Oklahoma City Thunder'] = my_dict['Oklahoma City Thunder'] + my_dict['Seattle SuperSonics']\n",
    "del my_dict['Seattle SuperSonics']\n",
    "\n",
    "\n",
    "# LA Clippers\n",
    "print(my_dict['LA Clippers'])\n",
    "\n",
    "my_dict['Los Angeles Clippers'] = my_dict['Los Angeles Clippers'] + my_dict['LA Clippers']\n",
    "del my_dict['LA Clippers']\n",
    "\n",
    "\n",
    "# New Jersey Nets\n",
    "print(my_dict['New Jersey Nets'])\n",
    "\n",
    "my_dict['Brooklyn Nets'] = my_dict['Brooklyn Nets'] + my_dict['New Jersey Nets']\n",
    "del my_dict['New Jersey Nets']\n",
    "\n",
    "\n",
    "\n",
    "# New Orleans/Oklahoma City Hornets\n",
    "print(my_dict['New Orleans/Oklahoma City Hornets'])\n",
    "\n",
    "my_dict['Brooklyn Nets'] = my_dict['Brooklyn Nets'] + my_dict['New Orleans/Oklahoma City Hornets']\n",
    "del my_dict['New Orleans/Oklahoma City Hornets']\n",
    "\n",
    "\n",
    "\n",
    "\n",
    "#df.drop(df.index[[0,4]], inplace=True)\n",
    "display(len(my_dict))\n",
    "display(my_dict)\n",
    "\n",
    "\n"
   ]
  },
  {
   "cell_type": "code",
   "execution_count": null,
   "metadata": {},
   "outputs": [],
   "source": []
  },
  {
   "cell_type": "code",
   "execution_count": null,
   "metadata": {},
   "outputs": [],
   "source": []
  },
  {
   "cell_type": "code",
   "execution_count": null,
   "metadata": {},
   "outputs": [],
   "source": []
  },
  {
   "cell_type": "code",
   "execution_count": null,
   "metadata": {},
   "outputs": [],
   "source": [
    "import plotly.plotly as py\n",
    "\n",
    "import pandas as pd\n",
    "\n",
    "df = pd.read_csv('https://raw.githubusercontent.com/plotly/datasets/master/2014_us_cities.csv')\n",
    "df.head()\n",
    "\n",
    "df['text'] = df['name'] + '<br>Population ' + (df['pop']/1e6).astype(str)+' million'\n",
    "limits = [(0,2),(3,10),(11,20),(21,50),(50,3000)]\n",
    "colors = [\"rgb(0,116,217)\",\"rgb(255,65,54)\",\"rgb(133,20,75)\",\"rgb(255,133,27)\",\"lightgrey\"]\n",
    "cities = []\n",
    "scale = 5000\n",
    "\n",
    "for i in range(len(limits)):\n",
    "    lim = limits[i]\n",
    "    df_sub = df[lim[0]:lim[1]]\n",
    "    city = dict(\n",
    "        type = 'scattergeo',\n",
    "        locationmode = 'USA-states',\n",
    "        lon = df_sub['lon'],\n",
    "        lat = df_sub['lat'],\n",
    "        text = df_sub['text'],\n",
    "        marker = dict(\n",
    "            size = df_sub['pop']/scale,\n",
    "            # sizeref = 2. * max(df_sub['pop']/scale) / (25 ** 2),\n",
    "            color = colors[i],\n",
    "            line = dict(width=0.5, color='rgb(40,40,40)'),\n",
    "            sizemode = 'area'\n",
    "        ),\n",
    "        name = '{0} - {1}'.format(lim[0],lim[1]) )\n",
    "    cities.append(city)\n",
    "\n",
    "layout = dict(\n",
    "        title = '2014 US city populations<br>(Click legend to toggle traces)',\n",
    "        showlegend = True,\n",
    "        geo = dict(\n",
    "            scope='usa',\n",
    "            projection=dict( type='albers usa' ),\n",
    "            showland = True,\n",
    "            landcolor = 'rgb(217, 217, 217)',\n",
    "            subunitwidth=1,\n",
    "            countrywidth=1,\n",
    "            subunitcolor=\"rgb(255, 255, 255)\",\n",
    "            countrycolor=\"rgb(255, 255, 255)\"\n",
    "        ),\n",
    "    )\n",
    "\n",
    "fig = dict(data=cities, layout=layout)\n",
    "py.iplot(fig, validate=False, filename='d3-bubble-map-populations')"
   ]
  }
 ],
 "metadata": {
  "kernelspec": {
   "display_name": "ccProject_dA",
   "language": "python",
   "name": "ccproject_da"
  },
  "language_info": {
   "codemirror_mode": {
    "name": "ipython",
    "version": 3
   },
   "file_extension": ".py",
   "mimetype": "text/x-python",
   "name": "python",
   "nbconvert_exporter": "python",
   "pygments_lexer": "ipython3",
   "version": "3.6.4"
  }
 },
 "nbformat": 4,
 "nbformat_minor": 2
}
